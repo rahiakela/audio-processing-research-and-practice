{
  "nbformat": 4,
  "nbformat_minor": 0,
  "metadata": {
    "kernelspec": {
      "display_name": "Python 3",
      "language": "python",
      "name": "python3"
    },
    "language_info": {
      "codemirror_mode": {
        "name": "ipython",
        "version": 3
      },
      "file_extension": ".py",
      "mimetype": "text/x-python",
      "name": "python",
      "nbconvert_exporter": "python",
      "pygments_lexer": "ipython3",
      "version": "3.6.9"
    },
    "colab": {
      "name": "intensity_and_timbre.ipynb",
      "provenance": [],
      "toc_visible": true,
      "include_colab_link": true
    }
  },
  "cells": [
    {
      "cell_type": "markdown",
      "metadata": {
        "id": "view-in-github",
        "colab_type": "text"
      },
      "source": [
        "<a href=\"https://colab.research.google.com/github/rahiakela/audio-processing-research-and-practice/blob/main/audio-signal-processing-for-ml/3-intensity-and-timbre.ipynb\" target=\"_parent\"><img src=\"https://colab.research.google.com/assets/colab-badge.svg\" alt=\"Open In Colab\"/></a>"
      ]
    },
    {
      "cell_type": "markdown",
      "source": [
        "##Intensity, Loudness, and Timbre"
      ],
      "metadata": {
        "id": "2SgPOlCvcbHY"
      }
    },
    {
      "cell_type": "markdown",
      "source": [
        "[Audio Signal Processing for Machine Learning](https://www.youtube.com/playlist?list=PL-wATfeyAMNqIee7cH3q1bh4QJFAaeNv0)\n",
        "\n",
        "https://github.com/musikalkemist/AudioSignalProcessingForML"
      ],
      "metadata": {
        "id": "4itpUt73ccXQ"
      }
    },
    {
      "cell_type": "markdown",
      "source": [
        "##Setup"
      ],
      "metadata": {
        "id": "fYDoNyKhdF58"
      }
    },
    {
      "cell_type": "code",
      "source": [
        "import os\n",
        "import numpy as np\n",
        "import matplotlib.pyplot as plt\n",
        "import librosa, librosa.display\n",
        "import IPython.display as ipd\n",
        "\n",
        "import warnings\n",
        "warnings.filterwarnings(\"ignore\")"
      ],
      "metadata": {
        "id": "2G1RDOmocjmZ"
      },
      "execution_count": null,
      "outputs": []
    },
    {
      "cell_type": "code",
      "metadata": {
        "id": "_2tngURtT7FQ"
      },
      "source": [
        "%%shell\n",
        "\n",
        "wget https://github.com/musikalkemist/AudioSignalProcessingForML/raw/master/audio_resources/piano_c.wav\n",
        "wget https://github.com/musikalkemist/AudioSignalProcessingForML/raw/master/audio_resources/violin_c.wav\n",
        "wget https://github.com/musikalkemist/AudioSignalProcessingForML/raw/master/audio_resources/tremolo.wav"
      ],
      "execution_count": null,
      "outputs": []
    },
    {
      "cell_type": "markdown",
      "source": [
        "##Sound Files"
      ],
      "metadata": {
        "id": "6G7-axhGdJ4i"
      }
    },
    {
      "cell_type": "code",
      "metadata": {
        "id": "gnaJAUIXTxKX"
      },
      "source": [
        "BASE_FOLDER = \".\"\n",
        "violin_sound_file = \"violin_c.wav\"\n",
        "piano_sound_file = \"piano_c.wav\"\n",
        "tremolo_sound_file = \"tremolo.wav\""
      ],
      "execution_count": null,
      "outputs": []
    },
    {
      "cell_type": "code",
      "metadata": {
        "id": "jSL3Ke7KTxKY"
      },
      "source": [
        "# load sounds\n",
        "violin_c4, _ = librosa.load(os.path.join(BASE_FOLDER, violin_sound_file))\n",
        "piano_c5, _ = librosa.load(os.path.join(BASE_FOLDER, piano_sound_file))\n",
        "tremolo_c5, _ = librosa.load(os.path.join(BASE_FOLDER, tremolo_sound_file))"
      ],
      "execution_count": null,
      "outputs": []
    },
    {
      "cell_type": "markdown",
      "source": [
        "##Spectrogram"
      ],
      "metadata": {
        "id": "IRYMpkXwdPdv"
      }
    },
    {
      "cell_type": "code",
      "metadata": {
        "id": "taR_0MPETxKY"
      },
      "source": [
        "def plot_spectrogram(signal, name):\n",
        "    \"\"\"Compute power spectrogram with Short-Time Fourier Transform and plot result.\"\"\"\n",
        "    spectrogram = librosa.amplitude_to_db(librosa.stft(signal))\n",
        "    plt.figure(figsize=(20, 15))\n",
        "    librosa.display.specshow(spectrogram, y_axis=\"log\")\n",
        "    plt.colorbar(format=\"%+2.0f dB\")\n",
        "    plt.title(f\"Log-frequency power spectrogram for {name}\")\n",
        "    plt.xlabel(\"Time\")\n",
        "    plt.show()\n",
        "    "
      ],
      "execution_count": null,
      "outputs": []
    },
    {
      "cell_type": "code",
      "metadata": {
        "id": "xY4pIZH9TxKY"
      },
      "source": [
        "ipd.Audio(os.path.join(BASE_FOLDER, violin_sound_file)) "
      ],
      "execution_count": null,
      "outputs": []
    },
    {
      "cell_type": "code",
      "metadata": {
        "id": "V3FX669XTxKa"
      },
      "source": [
        "plot_spectrogram(violin_c4, \"c4 on violin\")"
      ],
      "execution_count": null,
      "outputs": []
    },
    {
      "cell_type": "code",
      "metadata": {
        "id": "_D4urlP8TxKa"
      },
      "source": [
        "ipd.Audio(os.path.join(BASE_FOLDER, piano_sound_file)) "
      ],
      "execution_count": null,
      "outputs": []
    },
    {
      "cell_type": "code",
      "metadata": {
        "id": "doML236yTxKd"
      },
      "source": [
        "plot_spectrogram(piano_c5, \"c5 on piano\")"
      ],
      "execution_count": null,
      "outputs": []
    },
    {
      "cell_type": "code",
      "metadata": {
        "id": "i4m4D3UuTxKe"
      },
      "source": [
        "ipd.Audio(os.path.join(BASE_FOLDER, tremolo_sound_file)) "
      ],
      "execution_count": null,
      "outputs": []
    },
    {
      "cell_type": "code",
      "source": [
        "plot_spectrogram(tremolo_c5, \"c5 on piano\")"
      ],
      "metadata": {
        "id": "7PyZfmyediI2"
      },
      "execution_count": null,
      "outputs": []
    },
    {
      "cell_type": "markdown",
      "source": [
        "##Fourier Transform"
      ],
      "metadata": {
        "id": "I8T26y6ueGJx"
      }
    },
    {
      "cell_type": "code",
      "metadata": {
        "id": "DzWrJmvxTxKg"
      },
      "source": [
        "X = np.fft.fft(violin_c4)"
      ],
      "execution_count": null,
      "outputs": []
    },
    {
      "cell_type": "code",
      "metadata": {
        "id": "tX-y1dlzTxKg"
      },
      "source": [
        "X_mag = np.absolute(X)\n",
        "f = np.linspace(0, _,  len(X_mag))"
      ],
      "execution_count": null,
      "outputs": []
    },
    {
      "cell_type": "code",
      "metadata": {
        "id": "NH1vDW6cTxKh"
      },
      "source": [
        "plt.figure(figsize=(18, 10))\n",
        "plt.plot(f, X_mag) # magnitude spectrum\n",
        "plt.xlabel('Frequency (Hz)')"
      ],
      "execution_count": null,
      "outputs": []
    },
    {
      "cell_type": "code",
      "metadata": {
        "id": "CmV4GpLmTxKh"
      },
      "source": [
        "len(violin_c4)"
      ],
      "execution_count": null,
      "outputs": []
    }
  ]
}