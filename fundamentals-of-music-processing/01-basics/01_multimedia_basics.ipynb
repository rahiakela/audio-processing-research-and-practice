{
  "nbformat": 4,
  "nbformat_minor": 0,
  "metadata": {
    "colab": {
      "provenance": [],
      "toc_visible": true,
      "authorship_tag": "ABX9TyOE+nEu6petOSsrCKsBMDiL",
      "include_colab_link": true
    },
    "kernelspec": {
      "name": "python3",
      "display_name": "Python 3"
    },
    "language_info": {
      "name": "python"
    }
  },
  "cells": [
    {
      "cell_type": "markdown",
      "metadata": {
        "id": "view-in-github",
        "colab_type": "text"
      },
      "source": [
        "<a href=\"https://colab.research.google.com/github/rahiakela/audio-processing-research-and-practice/blob/main/fundamentals-of-music-processing/01-basics/01_multimedia_basics.ipynb\" target=\"_parent\"><img src=\"https://colab.research.google.com/assets/colab-badge.svg\" alt=\"Open In Colab\"/></a>"
      ]
    },
    {
      "cell_type": "markdown",
      "source": [
        "##Multimedia Basics"
      ],
      "metadata": {
        "id": "WZyxW45IgYxn"
      }
    },
    {
      "cell_type": "markdown",
      "source": [
        "<p>\n",
        "In this notebook, we give a short overview on how to integrate multimedia objects (in particular, audio, image, and video objects) into a Jupyter notebook. Rather than being comprehensive, we only give a selection of possibilities as used in the other FMP notebooks. In particular, we discuss two alternatives: a direct integration of images, video, and audio elements using HTML tags as well as an integration using the module <code>IPython.display</code>.\n",
        "</p>\n",
        "\n",
        "**Reference**\n",
        "\n",
        "[Basics](https://www.audiolabs-erlangen.de/resources/MIR/FMP/B/B.html)\n",
        "\n",
        "[Multimedia Basics](https://www.audiolabs-erlangen.de/resources/MIR/FMP/B/B_Multimedia.html)"
      ],
      "metadata": {
        "id": "EY6DPaMbgdEO"
      }
    },
    {
      "cell_type": "markdown",
      "source": [
        "##Setup"
      ],
      "metadata": {
        "id": "mYLbm-a7hAmR"
      }
    },
    {
      "cell_type": "code",
      "source": [],
      "metadata": {
        "id": "Qnym1uShhBwf"
      },
      "execution_count": null,
      "outputs": []
    },
    {
      "cell_type": "code",
      "source": [],
      "metadata": {
        "id": "vsoo7baAgdQ9"
      },
      "execution_count": null,
      "outputs": []
    }
  ]
}