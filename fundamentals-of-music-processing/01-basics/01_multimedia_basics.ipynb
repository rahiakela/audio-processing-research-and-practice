{
  "nbformat": 4,
  "nbformat_minor": 0,
  "metadata": {
    "colab": {
      "provenance": [],
      "toc_visible": true,
      "authorship_tag": "ABX9TyPUiboXVV5iXBYxaf7ELTMf",
      "include_colab_link": true
    },
    "kernelspec": {
      "name": "python3",
      "display_name": "Python 3"
    },
    "language_info": {
      "name": "python"
    }
  },
  "cells": [
    {
      "cell_type": "markdown",
      "metadata": {
        "id": "view-in-github",
        "colab_type": "text"
      },
      "source": [
        "<a href=\"https://colab.research.google.com/github/rahiakela/audio-processing-research-and-practice/blob/main/fundamentals-of-music-processing/01-basics/01_multimedia_basics.ipynb\" target=\"_parent\"><img src=\"https://colab.research.google.com/assets/colab-badge.svg\" alt=\"Open In Colab\"/></a>"
      ]
    },
    {
      "cell_type": "markdown",
      "source": [
        "##Multimedia Basics"
      ],
      "metadata": {
        "id": "WZyxW45IgYxn"
      }
    },
    {
      "cell_type": "markdown",
      "source": [
        "<p>\n",
        "In this notebook, we give a short overview on how to integrate multimedia objects (in particular, audio, image, and video objects) into a Jupyter notebook. Rather than being comprehensive, we only give a selection of possibilities as used in the other FMP notebooks. In particular, we discuss two alternatives: a direct integration of images, video, and audio elements using HTML tags as well as an integration using the module <code>IPython.display</code>.\n",
        "</p>\n",
        "\n",
        "**Reference**\n",
        "\n",
        "[Basics](https://www.audiolabs-erlangen.de/resources/MIR/FMP/B/B.html)\n",
        "\n",
        "[Multimedia Basics](https://www.audiolabs-erlangen.de/resources/MIR/FMP/B/B_Multimedia.html)"
      ],
      "metadata": {
        "id": "EY6DPaMbgdEO"
      }
    },
    {
      "cell_type": "markdown",
      "source": [
        "##Setup"
      ],
      "metadata": {
        "id": "mYLbm-a7hAmR"
      }
    },
    {
      "cell_type": "code",
      "source": [
        "import os\n",
        "import IPython.display as ipd\n",
        "import librosa\n",
        "import numpy as np\n",
        "import pandas as pd\n",
        "%matplotlib inline"
      ],
      "metadata": {
        "id": "Qnym1uShhBwf"
      },
      "execution_count": null,
      "outputs": []
    },
    {
      "cell_type": "code",
      "source": [],
      "metadata": {
        "id": "vsoo7baAgdQ9"
      },
      "execution_count": null,
      "outputs": []
    },
    {
      "cell_type": "markdown",
      "source": [
        "## Audio Objects"
      ],
      "metadata": {
        "id": "x9ned26_l-zu"
      }
    },
    {
      "cell_type": "markdown",
      "source": [
        "**Audio: HTML `<audio>` tag**\n",
        "\n",
        "The HTML `<audio>` tag defines an in-browser audio player and allows for playing back a specified audio file (MP3, WAV, OGG), see [here](https://www.w3schools.com/Tags/tag_audio.asp) for details. Note that the functionality and the visual appearance of the audio player depends on the respective browser used. The `<audio>` tag can be used within a markdown cell and does not require any Python. \n",
        "\n",
        "<audio src=\"../data/B/FMP_B_Note-C4_Piano.mp3\" type=\"audio/mpeg\" controls=\"controls\"></audio>"
      ],
      "metadata": {
        "id": "9QTUghbal_jg"
      }
    },
    {
      "cell_type": "markdown",
      "source": [
        "### Audio: Using  <code>IPython.display.Audio</code>"
      ],
      "metadata": {
        "id": "aANDYhL3mS_8"
      }
    },
    {
      "cell_type": "markdown",
      "source": [
        "An alternative is to use the module <code>IPython.display</code>, which is an application programming interface (API) for displaying various tools in IPython. As for audio, the following class is available ([`IPython` version 6.0 or higher](https://ipython.readthedocs.io/en/stable/api/generated/IPython.display.html)):\n",
        "\n",
        "`IPython.display.Audio(data=None, filename=None, url=None, embed=None, rate=None, autoplay=False, normalize=True, *, element_id=None)`\n",
        "\n",
        "<div class=\"alert alert-block alert-warning\">\n",
        "<strong>Warning:</strong> As default, <code>IPython.display.Audio</code> normalizes the audio (dividing by the maximum over all sample values) before playback. This may be unwanted for certain applications, where the volume of the audio should be kept to its original level. For examples, see the <a href=\"../B/B_PythonAudio.html\">FMP notebook on Audio</a>.\n",
        "</div> \n",
        "\n",
        "When used in a code cell, <code>IPython.display.audio</code> creates an in-browser audio player. The following two options are conceptually different: \n",
        "\n",
        "* When using the keyword argument `filename`, the audio file is loaded from the specified path and **embedded** into the notebook (with default `embed=True`). \n",
        "* When using the keyword argument `url`, the player is **linked** to the audio file by the specified URL (with default `embed=False`). \n",
        "\n",
        "Note that if you want the audio to be playable later with no internet connection (or with no local audio file available), you need to embed the audio file into the notebook. This can be done using the first option. The following example illustrates the difference between the two options. "
      ],
      "metadata": {
        "id": "VD7AVjywmT9Y"
      }
    },
    {
      "cell_type": "code",
      "source": [
        "path_filename = os.path.join(\".\", \"data\", \"FMP_B_Note-C4_Piano.mp3\")\n",
        "\n",
        "audio_element_filename = ipd.Audio(filename=path_filename)\n",
        "print(f\"Size of <audio> tag (with embedded audio file): {len(audio_element_filename._repr_html_().encode('utf8')} Bytes\")\n",
        "ipd.display(audio_element_filename)\n",
        "\n",
        "audio_element_url = ipd.Audio(filename=path_filename)\n",
        "print(f\"Size of <audio> tag (with embedded audio file): {len(audio_element_url._repr_html_().encode('utf8')} Bytes\")\n",
        "ipd.display(audio_element_url)"
      ],
      "metadata": {
        "id": "xK-oTJuomXA0"
      },
      "execution_count": null,
      "outputs": []
    }
  ]
}