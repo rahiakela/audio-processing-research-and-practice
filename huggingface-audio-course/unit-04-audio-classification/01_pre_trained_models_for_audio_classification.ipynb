{
  "nbformat": 4,
  "nbformat_minor": 0,
  "metadata": {
    "colab": {
      "provenance": [],
      "toc_visible": true,
      "authorship_tag": "ABX9TyOSh+hL9iZgS9SqrcNPhL8H",
      "include_colab_link": true
    },
    "kernelspec": {
      "name": "python3",
      "display_name": "Python 3"
    },
    "language_info": {
      "name": "python"
    }
  },
  "cells": [
    {
      "cell_type": "markdown",
      "metadata": {
        "id": "view-in-github",
        "colab_type": "text"
      },
      "source": [
        "<a href=\"https://colab.research.google.com/github/rahiakela/audio-processing-research-and-practice/blob/main/huggingface-audio-course/unit-04-audio-classification/01_pre_trained_models_for_audio_classification.ipynb\" target=\"_parent\"><img src=\"https://colab.research.google.com/assets/colab-badge.svg\" alt=\"Open In Colab\"/></a>"
      ]
    },
    {
      "cell_type": "markdown",
      "source": [
        "##Setup"
      ],
      "metadata": {
        "id": "CnSDLCsqHQ5p"
      }
    },
    {
      "cell_type": "markdown",
      "source": [
        "**Reference**:\n",
        "\n",
        "\n",
        "\n",
        "[Pre-trained models and datasets for audio classification](https://huggingface.co/learn/audio-course/chapter4/classification_models)"
      ],
      "metadata": {
        "id": "KbPVpz79MjbL"
      }
    },
    {
      "cell_type": "code",
      "source": [
        "!pip install transformers\n",
        "!pip install datasets[audio]"
      ],
      "metadata": {
        "id": "F7YnGsIkHREn"
      },
      "execution_count": null,
      "outputs": []
    },
    {
      "cell_type": "code",
      "source": [
        "from datasets import load_dataset\n",
        "from datasets import Audio\n",
        "\n",
        "from transformers import pipeline\n",
        "\n",
        "from transformers import WhisperFeatureExtractor\n",
        "from transformers import AutoProcessor\n",
        "\n",
        "import librosa\n",
        "import numpy as np\n",
        "import matplotlib.pyplot as plt\n",
        "from IPython.display import Audio\n",
        "import librosa.display"
      ],
      "metadata": {
        "id": "uj-xeNFDHVfT"
      },
      "execution_count": 6,
      "outputs": []
    },
    {
      "cell_type": "markdown",
      "source": [
        "##Keyword Spotting"
      ],
      "metadata": {
        "id": "sGrmWoH3Haoz"
      }
    },
    {
      "cell_type": "code",
      "source": [
        "minds = load_dataset(\"PolyAI/minds14\", name=\"en-AU\", split=\"train\")\n",
        "minds"
      ],
      "metadata": {
        "colab": {
          "base_uri": "https://localhost:8080/"
        },
        "id": "BPlC_Yu_Hb1d",
        "outputId": "9ec671e6-b96e-4558-9837-a48b3011e0c5"
      },
      "execution_count": null,
      "outputs": [
        {
          "output_type": "execute_result",
          "data": {
            "text/plain": [
              "Dataset({\n",
              "    features: ['path', 'audio', 'transcription', 'english_transcription', 'intent_class', 'lang_id'],\n",
              "    num_rows: 654\n",
              "})"
            ]
          },
          "metadata": {},
          "execution_count": 4
        }
      ]
    },
    {
      "cell_type": "code",
      "source": [
        "minds[0]"
      ],
      "metadata": {
        "colab": {
          "base_uri": "https://localhost:8080/"
        },
        "id": "WNxwbQJQ2Uis",
        "outputId": "29e15273-3b0c-4a15-b085-6ebe39557dac"
      },
      "execution_count": null,
      "outputs": [
        {
          "output_type": "execute_result",
          "data": {
            "text/plain": [
              "{'path': '/root/.cache/huggingface/datasets/downloads/extracted/a19fbc5032eacf25eab0097832db7b7f022b42104fbad6bd5765527704a428b9/en-AU~PAY_BILL/response_4.wav',\n",
              " 'audio': {'path': '/root/.cache/huggingface/datasets/downloads/extracted/a19fbc5032eacf25eab0097832db7b7f022b42104fbad6bd5765527704a428b9/en-AU~PAY_BILL/response_4.wav',\n",
              "  'array': array([ 0.        ,  0.00024414, -0.00024414, ..., -0.00024414,\n",
              "          0.00024414,  0.0012207 ]),\n",
              "  'sampling_rate': 8000},\n",
              " 'transcription': 'I would like to pay my electricity bill using my card can you please assist',\n",
              " 'english_transcription': 'I would like to pay my electricity bill using my card can you please assist',\n",
              " 'intent_class': 13,\n",
              " 'lang_id': 2}"
            ]
          },
          "metadata": {},
          "execution_count": 7
        }
      ]
    },
    {
      "cell_type": "code",
      "source": [
        "classifier = pipeline(\"audio-classification\", model=\"anton-l/xtreme_s_xlsr_300m_minds14\")"
      ],
      "metadata": {
        "id": "NWvCq9rc18kD"
      },
      "execution_count": null,
      "outputs": []
    },
    {
      "cell_type": "code",
      "source": [
        "classifier(minds[0][\"path\"])"
      ],
      "metadata": {
        "colab": {
          "base_uri": "https://localhost:8080/"
        },
        "id": "XRkNocUy2Dav",
        "outputId": "bb9733a9-781d-4cd5-83ec-0bd46af7a9c2"
      },
      "execution_count": null,
      "outputs": [
        {
          "output_type": "execute_result",
          "data": {
            "text/plain": [
              "[{'score': 0.9623644948005676, 'label': 'pay_bill'},\n",
              " {'score': 0.028678668662905693, 'label': 'freeze'},\n",
              " {'score': 0.0034296363592147827, 'label': 'card_issues'},\n",
              " {'score': 0.0020604985766112804, 'label': 'abroad'},\n",
              " {'score': 0.0008625703048892319, 'label': 'high_value_payment'}]"
            ]
          },
          "metadata": {},
          "execution_count": 6
        }
      ]
    },
    {
      "cell_type": "markdown",
      "source": [
        "##Speech Commands"
      ],
      "metadata": {
        "id": "nO2rxDbd2QOK"
      }
    },
    {
      "cell_type": "code",
      "source": [
        "speech_commands = load_dataset(\"speech_commands\", \"v0.02\", split=\"validation\", streaming=True)\n",
        "sample = next(iter(speech_commands))"
      ],
      "metadata": {
        "id": "pYnByDy_2RDg"
      },
      "execution_count": 15,
      "outputs": []
    },
    {
      "cell_type": "code",
      "source": [
        "sample"
      ],
      "metadata": {
        "id": "-wnBjfV4Uzfx",
        "outputId": "6aebb84e-a19e-4054-dcf1-a703e10e2bb8",
        "colab": {
          "base_uri": "https://localhost:8080/"
        }
      },
      "execution_count": 16,
      "outputs": [
        {
          "output_type": "execute_result",
          "data": {
            "text/plain": [
              "{'file': 'backward/0d82fd99_nohash_2.wav',\n",
              " 'audio': {'path': 'backward/0d82fd99_nohash_2.wav',\n",
              "  'array': array([-9.15527344e-05,  6.10351562e-05,  6.10351562e-05, ...,\n",
              "          2.68859863e-02,  1.46179199e-02,  1.67846680e-03]),\n",
              "  'sampling_rate': 16000},\n",
              " 'label': 30,\n",
              " 'is_unknown': True,\n",
              " 'speaker_id': '0d82fd99',\n",
              " 'utterance_id': 2}"
            ]
          },
          "metadata": {},
          "execution_count": 16
        }
      ]
    },
    {
      "cell_type": "code",
      "source": [
        "sample[\"audio\"][\"array\"]"
      ],
      "metadata": {
        "id": "6nz8A_W9WB0A",
        "outputId": "7008d2cc-8bd4-4538-8f1e-b007b4943f16",
        "colab": {
          "base_uri": "https://localhost:8080/"
        }
      },
      "execution_count": 18,
      "outputs": [
        {
          "output_type": "execute_result",
          "data": {
            "text/plain": [
              "array([-9.15527344e-05,  6.10351562e-05,  6.10351562e-05, ...,\n",
              "        2.68859863e-02,  1.46179199e-02,  1.67846680e-03])"
            ]
          },
          "metadata": {},
          "execution_count": 18
        }
      ]
    },
    {
      "cell_type": "code",
      "source": [
        "classifier = pipeline(\"audio-classification\", model=\"MIT/ast-finetuned-speech-commands-v2\")\n",
        "classifier(sample[\"audio\"])"
      ],
      "metadata": {
        "id": "Cvj7VCdxU3Ym",
        "outputId": "37f9012e-e83f-490d-ed56-19bdb96eafcd",
        "colab": {
          "base_uri": "https://localhost:8080/"
        }
      },
      "execution_count": 11,
      "outputs": [
        {
          "output_type": "execute_result",
          "data": {
            "text/plain": [
              "[{'score': 0.9999892711639404, 'label': 'backward'},\n",
              " {'score': 1.7504938796264469e-06, 'label': 'happy'},\n",
              " {'score': 6.703033363919531e-07, 'label': 'follow'},\n",
              " {'score': 5.805895852972753e-07, 'label': 'stop'},\n",
              " {'score': 5.614552378574444e-07, 'label': 'up'}]"
            ]
          },
          "metadata": {},
          "execution_count": 11
        }
      ]
    },
    {
      "cell_type": "code",
      "source": [
        "classifier(sample[\"audio\"].copy())\n",
        "Audio(sample[\"audio\"][\"array\"], rate=sample[\"audio\"][\"sampling_rate\"])"
      ],
      "metadata": {
        "id": "QHmHg4D4U99h",
        "outputId": "307ff30f-e2cb-4b72-e4db-c6bf40955a0b",
        "colab": {
          "base_uri": "https://localhost:8080/",
          "height": 75
        }
      },
      "execution_count": 20,
      "outputs": [
        {
          "output_type": "execute_result",
          "data": {
            "text/plain": [
              "<IPython.lib.display.Audio object>"
            ],
            "text/html": [
              "\n",
              "                <audio  controls=\"controls\" >\n",
              "                    <source src=\"data:audio/wav;base64,UklGRiR9AABXQVZFZm10IBAAAAABAAEAgD4AAAB9AAACABAAZGF0YQB9AAD8/wIAAgAEAAUA+/8CAAIA//8BAPz//P///wEA//////7//P8BAP//AQAAAP7/AQABAAEA///+//7/AAAAAP7/AAD///7/AgAAAP7/AgD+/wEABAD+/wQAAQD//wIA//8CAAAA/P///wEAAgACAP////8FAP////////7/BAAEAAUAAgABAAAAAgAFAAIAAQD///7/AgACAP7//////wIABQAAAP///////wIA//8CAAEA/v/8//z/AgD+//z/AgAEAAAA/v8BAAQAAgD+/wEABQABAPz/+/8AAAEA/v/7//z/AQAAAPz//P8BAPz//v8EAAEA/v/+/wEABAAEAAEA///8/wEAAgACAAEAAAAAAP7//v/+/wAAAgD+///////+//////////7//v8AAAIAAAACAP7///8CAAAAAgD+///////+/////v8AAP//AgACAAEAAgACAAIAAAABAAEAAQACAAIA///7////AgD//wAA///7////AgACAAAAAQACAAIAAAD//////v8CAAQAAAAEAAAA//8BAAAAAAABAAIAAgAEAAIA/////wIAAgACAAIAAAACAAIAAgACAP7///8AAAQABQAAAPz//P8CAAIA///5//v/AgAAAAEAAAD8/wQAAQACAAQA+////wAAAQABAPz/AAAFAAUABwABAP//AQD//wEAAgD7//7//v///wEA///7//z/AgD///z////7//7/AgD+/wAA///8/wIAAgACAAEAAQAEAAIA//8CAAQAAQABAAEA/v/7/wQAAgACAAEA//8FAAAAAgAFAAAAAQACAP7///8EAAAAAAAAAAIAAgD//wIAAgD7//7////8/wAAAQAAAAAA/////wAAAQACAAAAAQAEAAQABQD///7////+//z//P8AAAEA///+//////8AAAAA////////AQABAP7///8BAP///P///////v///wAAAAD+/wIABAD//wQAAQD+/wEABAAEAAEAAgACAAEAAgACAAEA////////AQAEAAQAAAACAAQA/v8BAAQA//8AAP//AQACAP7/AAACAAIAAgD+/wAAAgACAAEA/P/8//7/AgABAAEA/P/8/wIAAgABAP7//P/+/wEAAQD///7/+/8CAAIA/P/+//z//v////z/+//8/wEAAgABAP/////+/wIABAD///////8CAAUAAQACAAEA///+/wEA/v8AAAQA/v/+////AgD+//z/AgABAAQABAABAAAAAAABAAIAAQD//////v////////8CAP////8BAAEAAQAAAP///v8AAAIAAgAEAAIAAgACAAEABAACAP7///8FAAQA//////7//v8CAAAA///+////AQAAAP////8CAAIABAAEAAIAAgD///7/AAAEAAIA/////wUAAgD///7//v8BAAAAAQABAAEAAAD+/wAAAgACAP////8CAAQAAAD+//z//P/////////+////AQABAAAA//8BAP//BAACAP7/AQD+//z/AgACAPz/BAACAPz/AgABAAgAAgD7/wIAAgACAAQA+//8/wEA/v8CAP///v/8//v/BAAAAPz//v/8////AgAFAAUA///8/wAAAgABAAIA/////wQABwACAP////8AAAIAAQD+//v/AgD//wEABAD//wAAAQAEAAcAAgAAAP//AQAEAAAAAgACAAIAAQD8////BQAFAP//AQD/////AgD///7/AQACAAIA/v/7//7///8BAP//+//+/wIAAgD///////////7//P///////v8AAAAA//8AAAAA//8CAAEA/////wAA/v////////8AAAIABAD+////AAAAAAIAAgABAP///v8AAP////8CAP////8CAAQABAAAAAEAAAD8/wAAAQAAAAIAAQABAAQAAgACAAIA/////wIAAgACAPv//v8BAP//AQD//wIAAQABAAQAAgD/////+//+//////8BAPz/AAACAAEAAgABAAEAAAD///z//P8BAAIA+//8/////v8BAP//AQACAP7///8CAAQAAgABAP//AQAEAAIAAQAAAAIAAgACAAIAAAABAP///v8CAAIAAQACAAIAAgABAAIABQABAAQAAgAAAAQAAAD+/wIAAAD///z/AAACAAAAAQD+/wAAAQAAAAAA//8EAAIA////////AgAAAP//AgACAAIAAAACAAQAAgACAPv///8BAAAABAD//wEABAABAAQA/v/+/wEAAQACAAIAAgAAAPz//v8BAAIABAAAAPz/AgABAP//AAD//wIAAQD//////P/8////AgACAAEA///+////AgACAP///P///wEABQAEAAIAAgAAAAEA//8BAAQAAgACAAEA/v/7//7//P/8/wEAAgD+//v//P/8////AQACAAEA/v/8//n/AQAIAAQAAgD7/wEABAACAAIAAgACAAIAAgABAAEA///+/wIAAAACAAQABAABAPz///8AAAQAAAD+/wEAAgAEAPz//P/+////BQD//wEAAQACAAIA/v8CAAIA/v/5////AgACAP7/+////wAA/////wEABAABAP7////+/wEABAABAP//AAABAP7////+/wEAAgAEAP////8CAP//AgAAAP7/AQD+//z///8CAAQAAgABAAEABAABAAEAAgABAAIA///+/////////wEAAgD/////AgABAAEAAgABAAAAAAABAAEABAACAAAA//8CAAAA//8FAAQAAgD///v/AQAEAP///v///wIAAQD///z////8//z//v/8/wAAAQD8//7/BAACAP7//v///wEAAQD+//z//v///wIAAQD+//v////8//z/AQD+/wAA/P/5/wAAAQACAAIAAQABAAIAAgABAAIAAAD+/wAA//8AAAAA/v/+//7//P///wEAAgACAAIAAgD//wEAAQAEAAUAAgAAAP///v///wIAAQD8/wAAAgD+/wIAAQAAAAQAAgABAAAA///+////AAD///z///8BAAAAAQAAAAIABAACAAAAAAAAAP//AQAEAAAA/////////////wEAAAAAAPz///8CAAAAAgD//wEABAABAAEAAgABAAIABAACAP//AgACAP//AgACAAEAAAD/////BAACAP7/+////wIAAgD///v/////////AgD///7//v8AAAQABQACAAAA/////wIABQD///v/+f/7/wQAAQD+//7/+/8AAAIAAgD8//z/BAACAAEA/v/8////AQACAP//+//+//7//P8AAPz/AQD+//z/AgAAAAIA///+//7/AAACAP7/////////AQD+//7/AAD//wEAAgACAAIAAgAEAP//AgAHAAEAAQAAAAIABAACAP//+f8BAAEAAgAEAP7/AQABAAEAAgAAAAEAAAD/////AAD//wEAAAABAAIAAQABAAEAAgABAAQAAAD+//7/+/8AAAEA/////////////wAA///8/wIAAgD//wIAAQD+/////v8CAAEA//8BAP//AQAAAAEAAQD+/////v8CAAAAAQAEAAEAAQD+/wAABAACAAEA//8AAAAAAgACAP7//v8CAAIABAACAAIAAQD///7///8CAAIA//8CAAIA///////////+/wEA+//+/wIA/v/+//z/AgACAP//AQD8//7/AgACAAIAAQD+//z/AgACAPv//v8BAP//AAD8/wEABAAAAP7//v8CAP7///8CAAIAAgD///7/AAACAAEAAAAAAP//AgACAP//AgACAP7//P////7//v//////AQACAP//AgABAP//AQACAAQAAgAAAAQABAD///7///8AAAQAAgD+/wIABQABAP////8CAP//AAD/////AAD+/wIAAgACAAAA/v//////////////AAAEAAIA/////wEAAQAEAAQA//8AAAQAAgABAP7///8EAAIA//8CAAIAAAACAP7///8CAAIAAQACAAIA//8BAP//////////AgD+////BAABAAAA/v8BAP///P8BAAAAAQACAP/////+/wEABAAFAAIABAABAP//AQD+/wEABAABAP7/+//8//n///8BAP7/AgD///v//v/8/wIA/v/+/wIA/v/+//7/AgABAAIAAgD+///////+/wAAAQAAAP7//v//////AgACAAIABAD/////BQACAPz///8CAAEABwACAP//AQD/////AAAFAAEA/v8EAP////8CAP//AgACAP///v8AAAEA/v//////AQAEAAAAAgACAAIA/P/+/wIA/v/+//7/AAACAAEAAQACAP7//v8AAP//AAACAAIA///8////AQD///7///8BAAIAAQD///7/AAACAP//AAAAAAEAAQABAAIAAQD/////AgD///7///8CAAIA///+////AAD//wIAAgACAAAA//8AAAQAAgD+/wIAAQD//wIAAgAFAAEA/////////////wEAAgD///v//P8BAAEA///8//z//v/8////AAD8/wEA/P/7/wAA/v/8//7/AQACAAEA///+//z///8CAAEAAAACAAIAAgABAAIAAgD///7/AQACAAIAAQACAAIA////////AgACAP///v///wIA///+//7//v8AAAIA///+/////v///wIA///+/////v///wQAAgD//////v///wIA/v/+/wIAAgABAP//AAD/////AQACAAIAAgACAAIAAgAEAAEAAQAEAP///v8EAAIAAgAEAP7/AAACAAIAAQAAAAEAAAABAAQAAQD+////AgAAAAAA//8CAAEA//8AAP////////z/AgACAAEAAgD/////AAACAAEA//8AAP//AQABAP//AAD//wEA///+/wQAAgACAAEAAAAFAAAA/v/+/wAAAgD//wIABAACAP7/+//8//v//v/+//v//P/7/wIAAgD8/////P8EAAIA+//8//7/AgAEAAIAAQACAP///v8CAAIAAgACAP//AQABAP7/AgABAP//AgD//wQABQABAAAAAAABAAIAAAD+//7//P/+/wAA//8BAAEA/P8BAAIA//8EAAIAAQACAP////8AAAIABAACAAIAAQAAAAIAAgACAAIA/////wEA////////AQAFAAIA/v8BAAEAAgAFAAAA/v8AAAIAAgABAAEAAQACAAAAAQD//wEABAABAP//AQACAP7///8CAAEA/v/+/wAAAAABAAIA/////////v8EAAIAAgAEAP//AgACAP7/AAACAAIAAQD+//7///8AAP///v//////AQD///7//v///wAA///+//7//v/+////AQAAAAAA//8AAAQAAgD8/wEA/P/7/wIAAgABAP7//P/+/wEA/v/7//z///8EAP7/+f///wEA///7//z/AQAEAAEAAAABAAAAAgACAP/////+//7//////////P/+////AgABAP////8BAAIAAgACAP//AQAEAP7///8AAAEAAQD8//7/AAACAAQABAAEAP////8CAAIAAQAAAP////8CAAIA////////AQACAAEAAgAEAAIAAQACAAIAAAAAAP//BQAEAAIABAACAAIA//8AAAEA//8CAAIAAQACAAIABAAFAAQAAQD+/wEABAAAAP/////+/wAA//////////8AAP//AQAAAAIABAACAAIA/P///wEAAAD///7//////wAA/v8AAAEA/v8AAAAABAACAP////////7//v/+//7/AgAEAAAAAgACAAEABAACAAEA/P/8//z/AQACAPz/BAAEAP7/AgD//wAAAgACAAIA/P/7/wQAAgD7//z//P/+/wQAAgACAAIA//8AAAAAAgACAP///////wEAAgACAAAA/P8CAAQA/////wEA//8CAAIA///+////AAD+//z/+/8AAAIAAgABAP//AAAAAAEAAAD8//7/AgABAAQAAAD//wEAAgACAP///v///wIAAQD//wEA//8AAAEA///+//7/AgABAAEAAQACAAQAAQABAP////8EAP/////+/wEA///+/wQA/v/+/wEA//8BAAIAAgAAAAEAAgABAP////8BAP///////wEAAgD///7/AgAEAAEAAQACAAEAAgABAP/////+//7////+//7/AQD//wIAAQD+/wIA//8BAAEA/////wIAAgACAAIA/v/+/wEA/v/8//7//P8CAAIAAgACAPz/+f/+/wIA/v/8//z//P8BAAEAAQD8//z//P8BAP///P8BAAIAAQAAAAAA//8BAAIAAAD//wAAAAAAAAEA//8CAAIA/////////////wIA/////wEAAQACAAIA//8AAAIAAAABAAIAAQACAAIABQAAAP7/AAAAAAIAAgD/////AgABAAIA///+/wAA//8CAAEA//8CAP/////+////AAACAAQABAAEAAEAAAACAAQAAgD///7/AAACAAIABAACAAIABAABAAAABAACAAAAAAAAAAEAAgD///7/AgD///z//P///wIAAgAEAAQAAAAEAAQAAQABAP/////+////AAAAAAIABQACAAAA/////wEAAgABAAQAAQABAAIA//8CAAEA//8AAP//AgD+/////v/8/wEAAAABAPz/AgAEAAIAAQD//wIA/v/8////AgACAAQABAD8//7/BAACAAIAAgD//wEAAgD+/wAAAgACAAIA//8AAAEAAQACAAAA/////////v/+//7//P////7/AgAEAAIAAgABAAQAAgD8////AQD///z/AAACAP//BAAEAAEAAAD8////AQABAAIAAgABAP///////wIAAgD+/wIA///+/wEA/////wAAAQD//wEAAAD8//7//v8AAAAA//8BAAAA/v8AAAEAAAABAAIAAQD///7///8FAAIAAgABAPv//////wIAAgACAAAAAgABAP//AQD//wEAAgACAAIABAABAAQABAACAAUA+f/7//z//v8NAAgABQAEAPb/+P/8//7/BAAFAAIAAQD///n/AQAEAAIAAQD8//j//v8CAAUABwACAPz//v/7//7/AAD5//7//v/7/wUABAD+//v//P8CAP7//v/7//z/AgAEAAEA/v////z//v8AAAIA///+/wAAAQABAP///////wEAAgAEAAQABwAFAP7/+//5////AgAEAAQAAgABAP/////+/wEAAQD+////AAABAAIABQACAAIA/v/7//v//v/+////AAD/////AQAAAAQAAgAEAAIA/P/+//7/AAAEAAcABAD//////P8AAAIAAgAHAAEAAAABAP//AAAAAAQABAAAAP//AgAEAAIA///8/wEAAAD//wAA/v8BAAAAAQAFAP////8CAP////8BAAEAAQAAAAQABAABAP7//v8BAP7///8AAP7/AAABAP7///8BAAAAAgD///////8AAAQAAQD///7/+//+/wEABAAFAP//+f/7//j/AgAKAAIAAgABAP7/AgD//wIAAAD7/////P/8//v//v8CAAgAAgD8//n/+f/8//z/AgAHAAQAAgD//wEABAACAAUAAgAAAP//AAACAAEABAD///7///8AAAQAAQACAP//BAAEAAUABAD+////AAAFAAUAAQD8//7/+//7/////v8BAAcABQACAP7///8BAAEABQD///7//v/+/wcA/////wIA/v8AAP///v///wAAAQAEAAIAAgACAP7/AAACAAEA//8CAAAA+//7/wAABAABAAEA///+////AQABAAEAAgABAP///P/+/wAAAgABAAQAAgD//wEA/////////v//////AQACAAIAAgACAP//AAABAP7////8//7/AQAFAAIAAgAEAAIAAgD///7/AQABAAIAAgACAAIA/v/7/wAAAQD+//v//P/7//7//v8AAAQA/P/7//z//P8BAPz/AgD///z/AAD+/wEAAAD+//z//P/8//7////+//z///8CAAQAAQD///7///8BAAEA/v///wEAAgAEAP7//v8BAAIAAAD8/////v///wAA//////////8CAAIAAQABAAAAAQD//////////wEA//////7////+/wAA/////wIA//8CAAIA/v//////////////AgACAP///////wEAAgACAAIABAD///7/AgAAAP7/AAACAAAAAgD///7/BAD//wAAAgACAAEA//8CAAIA/v/+//7/AAAAAAEAAgACAAIAAQABAAQAAgACAAIAAgACAAIAAgD+//z//P8AAAUABwABAP//AAD+//7/AgAAAAIABAACAAEA//8BAPz//P/+//v/+//5//7/AQACAP//AgAFAAIAAQD//wIA/v/7/wIAAQD+/wEABAACAPz//v8CAAIAAAD8//7/AQACAAEA//8CAAIAAgABAAAAAAD+//////8BAAAA/v8CAP///v////z///8CAP////8AAAEAAgD///7/AAD//wAA///8//7/AAAEAAIAAQABAAQAAgD+//z///8CAP7/////////AQABAAEAAgACAAIAAQAAAP///P/8/wEAAgAAAP///v///wAAAAAEAP//+/8BAAEA/////wEAAQAAAP//AAD//wIAAQD+/wAA//8CAAUABAACAAEA/////wAAAQD+/wEAAgD//wIA//8CAAQAAgACAAAAAgD//wEAAQD//////v////////////7////+////AgACAAAA/////wEAAQACAAIAAQD+//z//v8BAAEAAQACAAQA/v/7/wIAAgD+//z/AQACAAAA///8/wEAAgD8////AQABAAIAAQABAP///////wEAAgD//wEABAACAAEAAQAAAP////8BAP7///8AAAAABAABAAAABAABAAIAAgAAAAAA//////7///8AAAIABAAAAPz/+//+/wEAAQAAAP//AgABAAIAAgAAAAEAAQABAAQABQAEAP////8CAAIABAACAAEAAAD//wAAAQACAAIAAgACAP///v8AAAAA/////wEABAACAP///P8CAAQA//8CAAIA///+////AQAAAAEA//8AAAEA//8AAAIAAQAAAAIA/////wEA/v8BAAAA/v//////AgD/////AQACAAUABAD+//7/AQAAAAEABAABAAIAAQD//////v/+//7//P/8////AgABAPz/+//8/wIAAgD+//z/AgAHAAEAAQACAPv/AAABAP//AQD+/wIABAD7//z///8CAAIA//////7///8CAAEAAgD+//7/AgACAAUA/////wAAAQAFAAIA//////7///8BAAEABAD/////AgD//wIABAACAAEA/////wEAAgD8//7//v///wQAAQD///z/AAABAAAA/P/8/wEAAgD//wIAAQD///7///8AAP7//P///wAAAQACAAIAAAD+//7//////wEAAQABAAIAAgACAAEAAgACAAQAAgAAAP//AgABAP7////+/////v///wIA/////wAAAgAFAAIAAgD//wEAAQD//wIA//8AAAQA////////////////AQACAP///v8CAAIA////////AAD/////AQABAAIA/////wEA/P8BAAQAAgAEAAEA/P/8/wEA//8BAPz//P/8//z/AgD8/wEAAgD7//z/BAACAAIAAgD8/wEAAgACAAIAAQD+////AgD//wEAAAD+//////8AAAAAAgABAP///////wIAAgABAP////8CAAIAAAD///7//P/+/wEAAgAAAAEAAAAAAAEAAgABAP//AAD/////AgACAAEAAgACAP//AgACAAIAAgD//wIAAgABAP//AAAEAAIAAAD/////AAACAAIAAQD///z//P///wIAAgACAAEA//////7///8CAAAA//////////8CAAIAAgACAP///////wAA/////wAA/v8AAAQAAQD//wEAAgACAAIAAQABAAAA/v8AAP//AAABAP7//v/8/wEAAgAAAP//AAABAAAAAAAAAAEA////////AQACAAEAAQD8/wIAAgACAAEA/P/+//z/AgD///z/+//+/wEAAgACAP//AQAEAAEA/P///wIA/P8AAP//AAACAAAAAQACAAQAAQD+//////////7//v8CAAIAAgABAAAAAAD//////v8AAAIAAAABAAIAAgD//////v///wIABAAEAP7/AQACAAEAAAAAAAAAAQAEAAAAAgACAP//AQAEAAEAAQD///z///8BAAEA/P/8////AgD///v//////wIAAgD//wAA//8CAAIAAAAAAP7//v///wIABAD+//z/AQD/////AQAAAAIABAABAAEABQABAP//AgD//wEAAgAAAAIAAQD/////AQAEAAEA//8AAAEAAgAAAP//AgACAAAA///+/////v///wIAAgD/////AgABAP///v/8/wIABAABAAIAAAD+//v//P8BAPz//P/+//z//v/8//z/+//7//7/AQAEAAIA/v/7//z/AgD///z/AgACAAIAAQABAP//AQAAAP7/AgACAP7//v8BAAEA/////wAAAgAFAAIAAQACAAIAAAAAAAAAAAACAAEAAQAAAP7//v/8////AAD+////AQAEAAEA//8CAP////8BAAEAAgD//wQABAACAP////8CAAAAAQAAAAAAAAACAAEA//8BAAQAAgAAAP////8CAAIAAgACAAEA//8AAAIAAAACAAQA////////AAD/////AQAHAAIA/v8BAAIAAgD///7//////wEA///+/wIAAgABAAQAAQD+//////8CAAEAAgACAAAAAQAAAAEABAACAAIAAQD//wAA//8CAAUABAACAAEAAQACAAIA/P/8/wAA/v8BAP7/+f/8//7//v/8//7/AQD+//v//v/8//7/AgAFAAIAAgABAAQAAQD+/wEAAgACAAIABAABAP////////7///////////8AAAIA/v/8////AgAEAAIA//8AAAIAAgACAAAAAQACAAIAAgACAAIAAQACAAQAAgAAAAIAAQAAAAIA///7////AgAAAAQAAAAAAAIA/v/8////AgD+//7////8//7//P/+//7//P/+//7///////7/AAAAAP//AAD/////AAD+/wIAAQD//wEAAgACAP///v///wIAAQAAAP///v8AAP//BAABAAEABAAAAAQABAABAAUAAgACAAIAAgABAAIAAgACAAIA//////7///8AAAIAAgD///z///8BAAAAAQAAAP7///8EAAEA//////7//P/7/wEABAAEAAIA/v/+//v/AQABAPz/AgD+////AQD8//v//v8BAAQAAAD+/wAAAAABAP7//P/+//7/AgABAP7//////wIAAgAAAP////8BAAIAAgD+/wIABAD+//7//v/+////AAD+/wAAAgD///7//v////////8CAP///v8BAAUAAgABAAEABAABAP7///8BAAEAAAD///z///8EAP////////7/AgD/////AgD///////8BAP////8EAAAA/////wEAAgACAAAA//8AAAEABAABAAAA///+/wAAAQD//wIAAgD//wAA//8AAAIABAABAAAA//8CAAIA//8BAAAAAAAEAAQA///////////+////AQAAAAEA/v/7//////8CAAEA//8BAP////8EAAAAAAABAP///////wIA/P/8/wEA///8//z//P/8/wUAAgD8//z//P/8/wIAAQD+/wIA/P/8//7/+/8CAAQAAQAEAAEA/v8EAAgAAgD7/////////wIA//8BAAEABAACAP//AgACAAQABAABAP//////////AQACAAIABAAEAAEA/////wEAAAD///7/AAAAAP7///8BAAAAAgACAAEA/////wIA/////wIAAAD7//7/AgACAAEAAQABAP///v/+//7//v/8//z//v/+////AQABAAIAAgD//wAAAgACAAEAAgD////////+////BAAEAAEAAAD+//7/AQACAAIAAgD///7/AgACAAIA///+/wAAAQACAAIA///+/wEAAQACAAEAAQACAAIA/////wEAAQABAP///////wAAAQABAP7///8EAP//AQACAAAA/v/7/wAA/v/8//z/+//8//z/AgACAAIABAD///7/AQACAAIA///7//v//P//////AQACAAAA/v8BAAIA/P/8//z///8CAAIA////////AAD/////AAACAAEABAAAAPv/AgACAAAAAQACAAEA/v8CAAQA//8CAAcAAgD//////////wIAAgAAAP7///8CAP///v8BAAIA//8CAP////////7/AAAEAAIAAAABAAIAAQAAAAEAAgACAAEAAgACAAEABAACAAQAAQD//wIAAAD//wAA/////wAA////////AQAEAAEAAAABAP//AQACAAIAAgABAAEA//////z/AAD///7/AgAAAP7//P///wIABAD///z///8CAAEA//8BAAAABAACAAEAAgAAAAIAAgACAAIABAD+//z//v/+///////+/wAAAgACAAAA/v/8//z/AQD+//v/BAABAP//AQAEAAEA/P/7//7/AgAEAAcAAgD8/wIA/v/8/wEA/P/8//7/AQABAAEABAACAAAAAQAEAAIAAgABAP7/AgACAAIAAgD//wIABQD+////AgACAAAA//8EAAQABAACAAIAAgAAAAIAAAABAAQAAgACAP//BAD///7/BAAFAAIA///+/wAAAgABAP7/AQD////////+///////8//7//v/+/////P/8/wEAAQD//wAA/v///wIAAAD+//7//v///////v/+///////+//7//v///wAA//8CAAIAAAD+//7/AgD//wAAAgD//wIAAgACAP///v8AAP//AQAAAP7///8CAAQAAAD8////AQD//wEAAgACAAIAAQABAP//AQD//wAAAgABAAEABQACAAEAAgACAAEA//8AAPz//P8CAAIAAQD+//z//v8BAAIAAQD+//v///8CAAEA/v/8//z/+//+/wEA//8BAAQA/v///wIABAAEAAAA/v///wIAAQABAAIAAQABAP7//P///wEAAgABAP////8CAP//AAD+//7/AgD//wAA///+/////P///wEA/v8CAAcAAQD///////8BAAIAAQABAAQABAABAAAAAQAEAAIA//8CAAIAAQAAAP7/AQD//wAAAgAAAAIABAD/////AgD///7/AAACAAQAAgABAAIAAAD/////AAD///////8AAAIAAgABAP///P////7//P/////////+/////v///wIAAgACAAIAAQD//wEABAD//wIABAACAAcAAgD+/wAAAAABAP////8BAAAA///8//////8CAAEA/v8BAP7/AgACAPz//v8CAP///P8CAPz//v/+//z/AAD+/wUABAABAAIA/v8CAP///v8CAAQAAgD7//7///////////8CAAEA//////7/AgABAAAAAgACAAQABAAAAAEABAAAAAAAAAABAAIA///+/wIAAQACAAUAAAABAAEA/////wIABAAEAAIAAAAAAP7/AgAEAAEAAQD+/wQABAD+/wIAAQD+////AAACAAIA//8BAAAAAQACAP7//v8BAAIAAgAAAP////8CAAIAAgACAAEAAQD///7///8BAP//AAABAP//AgACAAIAAQACAAIABAACAAEAAgAAAAIAAgACAAEA///8////AgD//wAAAAD+/wEA/////////v///wAAAAD/////AQACAAAA/v///////////wIAAgAAAP///v/+/wEA///+/wEAAQACAAIA/v8AAAIAAAD///v//P8AAAIAAQD+//v//P/+/wIAAgD+//v/AAABAPz/AgD///7//v///wEAAgACAPz//v8CAAQABAD/////AQD//wEAAgD+///////8///////+/wEA/////wQAAgD//wAABAACAP7///8CAAIAAQD+/wIAAgD+/wQA/////wEA//8AAP7//v//////BAABAP///////wQAAgD/////AgAEAAIAAgACAAAA/////wIAAgACAAAA///8////BAD+////AQABAAIAAgACAAUAAgD//wAAAgABAP//AAD//wAA/v8EAAQAAQABAP//AgD/////AQACAAIA/v///wIAAgABAP//AgACAP/////+/wIAAQD//wIAAQABAAIA/v8AAAAAAAABAPz/AAD///v//v8BAAIAAAD+//v//P/8//v//P8CAAQA/P/7//z/AQACAP7//P/+/wIABAD/////AgD///z//P///wIAAgD/////AQABAAEAAgACAAIA/v///wIABAAEAP////8EAAEA///8/wAAAgACAAEAAAABAAEA/v8AAAEA//8CAP//AgAEAP//AQABAAEAAAACAAQAAQACAP////8CAAQAAgD+//7/AgACAP/////+/wEAAAD+/wAAAQABAAEA//8AAP///P/8////AgACAAEA/v///wEAAQABAP//AQD///7//v///////v///wAAAgAEAAAAAAAAAAAA//8CAAIA//////////8CAAIAAQACAAAAAgAHAAEA//////7/BAACAP//AQABAAIAAAD+////AQACAAEA////////AgABAP7////8//7/AgABAP7//v/7//7/AQAAAAEAAgABAPz//P///wEABAAEAAEA/P8BAAQA+//8/wEA///+/////////////////wIAAgD+/wEAAgD//wEAAgACAAIABAABAP7/AAAEAAIA/////wAA/v///wEA/////wIAAgACAAIAAgACAAQAAQABAAIA////////AQAEAP///v8BAP////////7/AgAEAPz//v////z///8AAAAA//8BAAAA//8CAAIAAQD//wAA/////wAAAgAAAP//AgD+/wAAAgD//wAA/v///wAA//8BAP///v8BAAQABAACAAIAAgACAAIA//8BAAIAAAAAAP///v8BAAIAAQACAAIAAgD///7/AgD//////v///wEA/v////////8AAP//AgD//////v/8/wIAAgD8/wIAAQD8/wAA/P/8//7/AAACAAEAAgABAAAABAACAAIA/P/8/wIAAgD8//z/AgAFAP7//P/+/wEABAACAAIAAQD//wAAAgD///7/AAD+//7/AgD///7///////7/AgAEAP7///8CAAQABAACAP////8CAAIAAgACAAAA/v///wAAAAD///n/+/8CAAEAAAACAP////8CAAEAAAD///7/AQABAAEA//8BAAIAAQABAAEAAgABAAEAAgAFAP///v8CAAIAAAD//wEAAQD//wAA///+/////v8AAAIAAgACAAEAAQACAP///v/+////AgAAAP//AAACAAIA/v/+/wIAAQD/////AQD+////BAAAAAEABAABAAIAAQD///7/AAABAP//AQACAAAA//8CAAIAAQACAP/////8//7/AAD+/wAA//8BAAQABwACAPv//v/8/wEAAQD8//z/+//8/wIAAQD8//z//P8AAAEA///8//z/AQACAAIA/////wEA/v///////v///////////wAA///+//////8AAAIABAACAAIAAgACAAIA///+////AAACAAIA////////AAACAP////8AAAEAAgABAAIA/v///wIA///+////AgABAAEAAAD+////AAACAAQAAgD/////AAACAAIAAAD/////////////AQAAAP7//////wAAAAACAP////8CAAAA/v///////v////////////7//v8CAP////8FAP////8BAAEABQAEAAAA//8CAPz//P8CAP//AQD///z/AQABAAAAAgACAAIAAQABAP7///8EAAEA//////////8CAAIA/P/8//z//P8FAAIA/P8CAAIAAgACAAEABAAEAPz//P/8//7/AgAEAAIAAgACAAIAAgAEAAQAAgACAAEABAAEAP///P8BAAIA////////+//+/wIAAAACAAQAAgACAAIAAgACAAAA///+///////+/wEAAgABAAEAAAABAAAA//8EAAEAAQACAAAA/v8AAAEABAACAP7//v8AAP/////+/////v/8//7///////7///8AAPz//v/+//z/////////AgAEAAEABAABAP//BAACAP7///8BAP7//v/+/wEAAgD+//7/AQABAAIAAgD+/wIABAAEAAIA//8AAAIAAQAAAP////8BAP////8EAAIAAQABAAQABAABAAIAAgAAAAAA//8BAAUAAQD//wEAAgACAAIAAQACAAIAAgAEAAEA/v/8//v//v/+//v//P/8/wEABAD+//v//v8AAAAAAgD8//z/AgABAAEA+//8//z//v8CAAEAAgAEAPv/+////wEABAD///7//v8AAAEAAQD//wIAAgACAAIA//8AAP7//P8BAP7///////7/AQD+////AQABAAAA/v///////v/+/wEAAgD/////AgD///7///8AAP////////7/BAAEAP///v////////8CAAQAAgACAP7//v////7///8AAP///v/+/wAAAQACAAIAAgACAAIABAAEAAEAAAABAP7/AAD///7/AQAAAAAAAQAAAAIAAQAAAAIA//8AAAIA/v///wIAAQACAAEA//8AAAIAAgACAAIAAgACAAEA////////BAAFAAIA/////////v8EAAEA//8BAAAAAQACAAEAAgABAP7/AgAEAAEA+//5/wIABAABAPz//P8CAAQA/P/+/wEA//8BAP//AgACAP7//P///wIA/P/+/wIAAgD8//7//////wQABQAFAAEABAABAP7/BQAFAAIAAQABAAEAAAD///7//P8AAAQAAAABAP//AQACAAEA//8BAAEAAAABAP//BAACAAEAAAD///7//v8CAAAAAQD+//7/AQD//wIA///+/////v8EAAQAAQABAAEA/v/+//v//P////7/AgACAAAA/////wAA//8AAAEAAgABAP////////7/AgABAAAAAAD+////AQACAAEA/////wAA//8CAAQAAQD///z///8FAAIA/////wAAAgAEAAEA/v8AAAEA//8CAP///v8AAP7//////////v///wEAAAABAAEAAQD///////8CAAIA///7//z/BAAAAPv/+/8BAAIA/v/+//v/AQACAP//AgD+//z//v/8/wEAAgACAP///P/+//7/AQABAPz///////7///8AAP//AQACAAIAAQD///////8BAP///////wIABAAAAAEAAAABAAAAAAD///7//////wEAAQAAAAAAAQAEAAIAAgACAAEA///+///////+/wAAAgABAP7//////wIAAAD//wIAAgAEAAIAAQABAAAAAgACAP//AAACAAAAAQAAAAIABAACAAIA//8CAAAA//8AAP//AgACAP7/AAAAAP////8EAAIA//8AAP//AgAEAAIABAABAP////8BAAAAAAAAAP///v///////v//////AQD///7//////wIABQACAAQA///+//z//v8BAAIAAgD//////v8BAAIAAQAFAAQAAQD8//z/AgAEAAEABAABAP7/AAD+/wEAAQD5//7/AgD+//v//P/+/wEABAABAP///////wEA/v///wIA/v8AAAAAAQACAAEAAQAAAP///v///wIAAQD+/wAABAAEAAEA//8EAP////8CAAAAAQAAAAAABAACAAAAAQACAAEA//8AAAQAAQACAAIAAAACAAUAAgABAAIAAgACAAIAAAABAAEA/v/+/wIAAgABAAEA/P/+/wEAAQAAAP////////7///8AAP//AQAEAAEA/v/+/////////wEAAgAAAP7//v/+/wIABAD//////v/+/////////wIAAgABAAAA//8AAAIAAgD+//7/AgACAP///////wEABAABAP/////////////8////AgAAAP7//v/+/wIA////////+//8////BAABAPz//////wQAAQD///z///8CAPz/AAD+//v/AgACAPz//P/7//z/AQACAAAA/v8CAAIAAQACAAEAAAACAAIAAgACAAIAAQABAAIAAgABAP///v/7//7/AAD//////v///wQAAgD//wIABAABAAIA/////////v8CAAIA//////7////+//7///8AAAEAAQABAP///v8CAAIABAABAP///////wAAAQACAAIA/////wIABAD/////BAACAAIAAQABAAIAAgAAAAIABAD///////8EAAcABAD///z/////////AgACAAIAAgD///7/AQACAAAA//8AAAEAAAAEAAQAAQABAAIA///8/wIA///+/////P/////////+///////+////AQABAP//+//+/wIABAAEAP//AAABAP7/AAD+/wEAAgAAAP7//P/+//z/AgAEAAIA///+/wQAAgD8//z/AgAEAAIA///8//7/+////wQAAgAEAPz/+f///wIAAgD//////v///wIA///+////////////AAAAAAIAAgABAP////8AAAEABAAEAAQAAAD+/wEAAgABAP7///////v///8AAAIAAgD//wEA////////AAACAAQAAgD///7/AQACAAIAAQABAAIAAQD+////AQAEAAIAAQABAP////8AAAIAAgAAAP//AgACAP7//v/+////AgD+/wEAAQD//wIAAAAAAAIAAQABAAIAAAACAAIAAgAEAP//AQACAAQABAABAAEAAQAAAAAA///+////AQD//wEABAD//wEAAQACAP7///8EAP///v///wEAAQD/////AQABAP///v8CAAIA+//7//v/+f///wEA/P////7/+//+/wEAAgABAPz//P8EAAEA/v/7//z/AAD+/wIAAgD8//v/+////wIAAAD//wAA///8//////////7//P8EAAUAAgD+//7/AgAAAAEAAQACAAQABAD+/wAAAgACAAIA/v8CAAIA//8AAAAAAQAEAAIAAgAEAAEAAQACAAIA//8AAP7///8BAP//AQAAAAIAAgACAAEA//8AAP7//v///wIA/////wEAAQACAAAAAgACAP//AQD/////AQABAAEAAgD//wAAAgABAAAA/v8BAP//AAACAP7/AQACAAAA/////wAAAQAFAAAA/P///wQAAQD+/wIAAAACAAQA/v/8/wEABAAAAP///v/+/wIAAQD+/wEAAQACAP////8CAAAAAAD//wEABAD7//v/AgACAAIAAgACAP//+//7////BwACAAIAAgD+/wEAAAABAP//AQD///v/BQAHAP//AgACAP7/AgACAAIAAgD///z///8BAAQABQD+////AAACAAIAAAACAAIAAgD/////BAABAP///////wIAAAD8/////P8BAAAA/P8AAAIAAQABAAAAAAAAAP/////+/////v8AAAAABAAEAPv//P8EAAcAAQAAAP///v/8//7/AQD///7//P///wAAAAAEAAQAAgD/////AgABAAEA/////wIAAQABAP////////7//v8AAAIA//////////8CAAEAAgABAAIAAgABAAIAAgACAAIAAQAAAAIABAD/////BAAEAAIA/////wIAAAD8////AgAAAAEA///+/wIAAgAAAP//AQAAAP//AAD+//7/+//8//v//v/+//n/+//+/wEA/v/+//z//P8EAAEAAgACAAEA/P/8/wEA/P/7//7//P/8//v//P8BAAEAAgACAAEAAgD7//7/AgABAAIAAgD8////AgD//wAAAgACAP//AAAEAAUABAACAAAA/v8BAP////8CAAIA////////AgACAP//AAD+//////8CAAQA///+//////8CAAQA///8////AAABAAIAAAAAAAAAAQAAAP//AAD//wIAAgD/////AAD///z//v8AAAIAAgABAAAAAAAAAP//AgACAAIAAgABAAEA/v//////AAAEAAIA/////wUABAACAAUA/v/+/wIAAgABAP7///8BAAIABAACAAIAAgACAAEA/v/8//v//v8CAP////8FAAIA/v8AAP////8FAAIAAQD+/////v/+/wAA+//8////+//+/wIA/v8CAAIAAQAEAP7/AgACAAEAAgACAAQABAABAAQA/P/5/wIAAgABAAQAAgAAAAIAAQD//////v8AAP//AQAAAP7/AgABAAIAAgAAAAEA/////wQA/////wUAAQD//wAAAAABAAIAAQD//////v/+//z//P/8//7/AgAEAAAA/v/8//v///8CAP///v8CAP///v8BAP///v8BAAEAAgAAAP7///8AAP///v/+/wEAAQACAAQAAgACAAIA/P/8/wIA/v/+////AQACAP7/AAACAP//AgD///7/AQABAP////8CAAIAAgD//wIAAQD+/wIA/v8CAAIA/v8BAAEABAAEAAEA//8AAAAAAQABAAIAAgD//wIAAQD//wIAAAACAAQAAQD///7//v8CAAIAAQABAPz//P8AAAEA/v/8////AQACAAEA/v/5//7/AQAEAAIAAQACAAUAAQD8//v//P/7//n//v8BAAQABQAAAP7////8////AgACAAEA//8BAAIAAQABAP7//P8BAP//AAABAP//AgACAP///v8AAP//BAAEAAUABAAAAAEA/P8AAP7///8CAP//BQAFAAAAAQABAP//AAD+//////8CAAQA/////wAA/////wIAAAAEAAQAAgAAAPz////4/wAABAABAAUAAAABAAIA///8/wAAAAAAAAIA//8CAP///P///wAA/////wIA//8BAAcAAgAAAP///v8AAAIAAgABAAIABQACAAEA/////wAA//8CAAEA//8BAAAAAgACAAAA/v/+//v///8BAPz/AgACAAEAAQD/////AgACAAQAAQD///v//P8EAAAAAQACAAEA/v/7//7//v/7//7/BAD/////AQABAAEA//8CAP7/+//+//v/BAACAP//AgD+/wAABAABAP7///8CAP////8CAAIA//8AAP7////+//7/AgD//wEA///8/wIABQAEAAEAAgAAAAEAAQD8//n//v8CAAEABQAIAAUAAQD+/////P///wIAAgAIAAcAAgD//////v///wIAAAABAAEAAQACAP///v/8//z/AQACAAUAAQD//wEAAAD///7//////////v8CAAcAAgD///7/AAACAAIAAQD/////AAACAAIA/v/8//7///8AAAAAAgAEAAIAAgABAAAA/v///wEAAAAEAP//BAAHAP7///////////8CAAQAAQAAAP7//v/+/////////wIAAQACAAEA/P8CAP7//P/8//v/AgAFAAIA+//8/wAA//8BAPz//P/+//7/AgD+//7////+/wAABAACAPz/AAD///z//v/+/wEAAgABAAIAAAD//wEAAAD///////8AAAIABQAEAAQAAAD///7//v8BAP////8CAAEAAgAEAAEAAAABAP///v8AAAQAAgACAAIAAgABAAAAAgACAAIAAgACAAQAAQD//wEAAgACAAIAAAACAAIABAD///z/AgACAAEAAAD//wAAAgACAP///P/8//7///8EAAAAAQD///z/AAABAAAAAAACAAIAAgACAAIAAgAAAPz//P/+////AgACAAIAAgACAAAA//8AAAEAAAD//wEAAgAEAAQAAQD+//z/AAAAAAEABAD////////+//7//////wIAAQAAAAEABAAHAAAA//8CAAEAAgABAP7/+//8/wAA///8//v///8CAAEA/v/8//z//v/+//z//P///wUAAgABAAQABwAFAAIA/v/8//z/+f/8/wAAAgAFAAQAAAD+/wAAAgD///7/AQAEAAIAAQAAAAAAAQD//wAA///+//v/+/8CAAEA/P/8/wEABAD+////BAACAAUABAACAAIA///+//z//P8AAAEABwAFAAQAAgACAAEA+//+//7/AAACAP//AQACAAQAAgAAAPz//v8BAP///v/+/wAAAgAEAAQAAgACAAEAAQAAAAEA///+//z//v8BAAIAAgAAAAEAAgD///7/AQD//////v///wUAAQD//wQAAgAAAP//////////AQACAAQABQACAPz/+//+//z/AQABAAAAAgACAAQAAQD///////////////8CAAIAAgAFAAQABAACAAIA/v/7/wIABAD+/wIAAgD8/wIAAAD7//z//P/8//z/AAAEAP////8CAAAA/v/8//z/+//7//z//v8BAAIAAgABAAEAAQD////////+//////////////8AAP//AgAEAAAA////////////////AgAHAAIAAAAAAAQABQACAAAA/P///wEAAQACAAIAAgACAP////8CAAEAAQD///7/AAD///7//////wAA/v/+////AAD/////////////////////AAACAAUABQAFAAEAAQABAP7/AAABAAAA/////wIABAAAAAAAAQACAAIAAgACAAIA/////////v//////////////BQACAP7//v/+/wIAAAD//wIABAAFAAEA//8CAAAA/v/7/////v/8/wAA//8EAAQAAAACAAAA///8//7/AQACAAEA+//+/wQAAgACAAQAAQD8//7/AgAEAPz//v8AAP7//v/7//7/AAAAAPz//P8EAAIA/P/+////AAAAAAEAAgD///7/AAACAAUABAAEAAEAAAABAP7///8AAAEAAAABAP///P8CAAIABAACAAIAAgD///7/AAD//wUABwACAAEAAAABAAAAAgD+////AgD+//v///8CAAIABQACAP7/AQD+////AQACAAEA/v8AAP//AQABAAIAAgACAAEA/v////7///8CAP7///8BAAIABQABAAEA/P///wQA/v8BAAIA////////AgACAP//////////AgACAAEABAACAAAABAD+////AgD///7/AAD//wIAAgD///////////7/AQACAAIAAQAAAAIABAACAAEA/v8AAAEA//8BAP7/AgACAP7/AgD+/wAABAABAP7//P/8//7//v/5//7/AQD+//v//v8AAAQAAgACAAEAAgABAPz/AQACAAUABAD+//7///8BAAAA//8AAAAA///8////AQACAAQAAgACAP///P/+/wAAAgD//wEAAgAAAP7/AAD////////+//7//v///wAA///+//7///////z//////wIAAgACAAIA//8CAAAAAQACAAEABAD//wIABAAAAAEAAQAFAAIAAAABAAEABAACAAQA///+//////8CAAEAAAAAAP7///8BAAIAAgAEAAAA///+////AgACAAIA//8AAAIA//8CAAAAAgAFAAEAAQABAAIAAgD+////AgACAAQABAAEAAQAAgACAAEAAAD/////AgABAP//AQAAAP7///////7////+//z/AgAEAAAA/P/7//z/AgAAAPz/AQAEAAEA/v/+//7/AQACAAIAAgABAP7//P8EAAEA//8CAP//AAACAPn//v8CAP////8AAP///////wAAAgABAP7//v///wIAAgD+//7///8AAAIABAAEAAIAAAD//wIAAAAAAAAAAAABAAQABAAAAAEAAgABAP7//v///wAAAgACAAIABQAEAP7//P/+////AQAAAAAA///+/////P////////8AAP//AQACAP//AgACAAAABAAAAP//AQABAAEAAQD+/wAAAgD+/wIAAQD+/wIAAAD//wEA//8BAP//////////AgD//wIAAgACAP////8AAP//BAAAAP7//v///wAA/////wAAAAD//////////////v/+////AQABAAIAAQAAAP7//v/+/wEAAQD8/wIA/v/+/wEA//8BAAQAAgD//wAA/P/8//7/+////wEA/P/8//z//v8CAAIAAgD+//z/AQABAP7/+//+////AAABAAIAAgD//wEAAgABAAQAAgACAAEA//////7/AQACAAAA/////wEAAgACAAEAAAD//wIABAACAAEA///8/wAA//8BAAEA/v8CAP///v8CAAIAAgACAAQABAABAAAAAgAEAAIAAgABAAIAAgACAAAA//8CAAIAAAD//wAA//8FAAQA//////7///8AAAAAAAD///7///////////8CAAIA//8AAP////8BAAEAAgACAAAAAAD//wIABAACAAAA//8BAAUAAgAAAP////8CAAIAAQAAAP//AgACAAQAAgD/////AgAEAAIAAgD///7///////////8AAAEA/v/7//z//P/8//n//P8AAPz/AgAFAPz//v8BAAEAAQD//////v8BAPz/+f/8//v/+////wUABAACAPz//P8CAAIAAgACAAQA/P////////8CAP//AAAAAAIAAAD+/wIAAQACAAIA/////wQABAD//wEAAgACAAAA+//8/wEA//8CAAUA/v/+/////////wUABAD///7/////////AAD///z/AAAEAAcABQACAAIA/v8CAAIAAQACAAIAAQD+/wIAAQACAAUA//8AAAEABAACAAEAAQABAAEA//8BAAQABAD///7/AgD//////v/7//7/AQACAP///////////////wEAAgACAAAAAgAFAAIAAQD///7/AAABAP//AQAEAAEA///+//z/AQACAAIABAAAAP////////7//P///wIAAgD///7/AgABAAAAAgD+//v//v8BAAIAAgACAAEAAgACAPz//P/+//z//P/7//z//P///wQA/P/8/wIAAQAEAAIAAgABAAAAAAAAAP/////+/////v/8//7///8BAAIABAABAAAA////////////////AQACAP//AQAAAP7////+////AAD//wIAAQACAAgAAgAEAAIA/v8CAAIAAgACAP///v/+////AAACAAEABAACAAIAAgAAAAQAAAD///7/AAACAAIAAgD///z///8AAAEA///+/////////wAAAgACAAEAAgACAAEAAgD/////AAD+/////////wEA///8////AgABAAAAAgAAAP//AAD+/wEABAACAAQA/////wIABAD/////AgD//wIABAD///7////+////AgAEAAAABAACAP7/BAABAAIAAAD8/wEA/P/7//z//P/8//v//P8EAAQABAACAP//AQD8//z//P/7/wEA/P8AAAEA/v8BAP7/AQAAAP7/AAD+/wQAAgAAAAEAAAACAAIAAQD//wEAAQD//wEAAAABAAQAAgACAAEAAgACAAIA//8CAAQAAQACAAIABQAEAAIA//8AAAIA//8BAAEABAAHAAQABAD/////BAABAP/////8//z//P///wAA/v/+//7//v/7//7///8CAAIA/v/+//z//P8BAAEA/v8EAAAA+//+//z//v/+//7/AAABAAAAAAD//wAAAQABAAQAAgACAAQAAgABAAAAAQABAAIABAACAAEAAAD///7//v8AAP////8BAAEAAAAAAP7////8//7///8AAAQABAABAP///v8AAAEAAgAFAAQAAQD///////8AAPz//P8BAAAAAgAAAAAABAACAAQABQAFAAIA/P8BAAAA/P8EAAQAAQD//wQAAgD+/wIAAgD+//7/AAACAAIAAgAAAAAA/v/7//7//v/8//v//P/8//7//v/+////AAD8//z/AAACAAUABQABAAIABAACAAUABwAFAAUABQAIAAgABwAHAAQAAgAEAAAAAgACAAIABAAEAAQA///+/////v/8////AAD//////P/8//z//v/+//v//v/7//v//P/8//7///8BAAEAAQAAAP//////////AQACAAQAAgACAAAA/////wAAAQABAAUABAD//wAABAAFAAQAAgACAAEAAgAFAAIAAQD8//z/AQD+/wAAAgAAAAAAAgABAPn/+f////7/+//4//7//v/+/wIA/v/7//z/AgACAP//BwAFAAIA/v8AAAAA/v8AAAEABQD+////+P/5/wQA/v/+//j/8//w/+z/7f/t//L/7//y//P/9v8AAP7//v/8//z/BwAQABQAEQARABYAEwATABQAFAATAA0AEwAWAAUAAQD4//P/+P/1//L/5P/e/9H/tv+r/6//uP/B/9T/7f/4/wQAGQAlAC8AfwAAATsBUAFaASgBDAH+AOcAygCXAHoANQDW/5n/Lv/G/nP+NP4r/hP+Kf5H/kT+df6Z/tH+Ev9M/6j/4P8dAEoAZACLAKQAvQDCANgA8gD4APgA+wAPAQEB/QD+AOEA1gDFALMApAB5AEgAAAC8/5H/Xv9N/0//T/9r/5T/3v8dAFsArQDuAB8BFwHrALQAjgCUAJsAqACwAKcAogCoAMUAvwB6ABkAsv9f/yf/Iv86/1X/Zf9J/wP/l/47/ib+cv4x/xAAvwA0ATgB1QBeAOz/lP9i/2z/wv8nAG0AfABEAOf/q/+z/wcAZADWAD0BTQGHAaYBlAGEAUsBOgEZASYBOAHhAKEAegCRAMYA7gA0AQ8BZADW/27/Sv+L/9P/IgAmABcAMwDv/77/i/86/z3/Qf+R/7v/hP+K/1b/KP/k/r/+1f4A/3f/WP8t/9L+eP7//pz/jgAJAdgAv/+J/eX7gPoU+qn6KvtP+3f6ivnY+MD4MPrk/AgAvwImBDAE4AJ7AZQBMQL2Aw8Gtwa5BowFfQTFAqoBUAKgAmsEiQbICD4K7wlnCX8HcQUmBHEEDQbcBqEH/QYEBB8A9fzB+737f/3C/14A0/8o/v78V/z7+5X89PzN/C/8sfvg+pf5/Pit+Hv4sfib+P33Mvfz9ff0y/RP9L3zY/NZ89vz2vRw93T7//73AIsBEwHb/2/+6v3P/XH8BPyR/Ov9fQAfA6oGCAjoCcYMMxXXJjM3IEXYSbU+Pyo6FAkGRwAdAXkFnwPk+f/qsNzF1CjTudpz6M31cv9nAyAE2wBq/ZT+tgC0BFAHWwRa/mH1du126RPqFu1M8OT0GfjW+tv8qv7SAC8BfgECAG/90vmS9djyl++D7Qvs4+zK71X0l/qC/R8A1QAr/6L/0f9yAIkAEgHqASABCAPlC1MeODFDQg5NJEgJOI0iUxJ7B1UD5wcqCnAEovWY53ncr9Ui2vnmvfXR/WICNwLM/Mv5xvyoBbQKXQuHBxb9gvLp6tfqmu0M8z/6EAAWBbsCBwGV/XL51vrS/YICCwP9/fz1C+0f5W/jROgU7WXx5PMQ8hHxRvFv9O/7gABRBCkFgAAU/Nz1MvKo8F/wvfZJ+94SbjF2RjFhiWKXUU038BxGD9EDmwmYChUDXPnd5h/d89OI04DdwefF9fb+AQXsBS8C2v/v/xIB7QAD/+/6g/au8uLwW/Ed8nL1zfs1At0JTwoJCO8CTvzf/Lb9bQT7BS8Blvre77PniuXe7TL4WwBPAsj96vMj5t3kT+vF8mH/oQUyBW//fPds827ug+/j8Fzw/fiH+ekHEiwdQLZZWmaWV89BjCWBE+AEQASKCJkD4PvG63/d1tFjz6HZcOeZ9g0B/QUPAqb6CfhY+rz/lgSOCjYF3P3X+InyJPSW9ub6evw8/Db8Bv0yAGIEwwklCIAEiAD6+P3zEvMJ9TD3EPcU+I/4r/aE88DwRO/K66jsYPPP+Cz7Df1e/fH4P/bw8xb0IvSv8KDtfezm7KrygRmKPFNV1nERZzVPEjKoGbkNWgZQDdMKewMo9BvgJNSOzSfRm91Q8NP7RAMABwwE8AHYAGEFFAZaAq/+Wfhk9vLxju9883byZPWq+b37o//2/bACWAinB8QIJgZMBZcAx/us+9v4sfiu9//6UvtA9bDxieu55/fjaObd75b0cvcn/Bv/uvsf+pz2CfPr8B3wCvTo8rHyffA0B+UvBEplbXV0YVk9OcsW3gfeAEMIgRY2E1UFBfBU3KvNr8rm1onqDvpnARcFOAI+/X38YQMbCqEKzghbBEL95/Xz9Hj1qfOE84v0qPcU+N/3Hf1iAjcJDBJwFkQVMQyKAx7/Xfl69UnwCeu04+HdG+B15KjrOPH59Hf1Uvag+oT/jgUcA7n/5Pjr7sPrBeb04Wrb89+Y5in74zIJVph1/38XZ/NFaR+gEzgHPwlDD4gHYv6+5JbWLcsgyUHUduOL+QYDPAjnCDIFlgJ/ANMFgAgvBhwCpPug8wbtgOxX8bf1cPs1AU8EzwXnBRkNNRLTFXYU1AxwBGP4n/Tm8JrufO2R6TToueOY47HmG+mg7UXyVvVO+D/8E/9vAeUBqgEJ/6v2Me7f5vbftt7Q4BHmYfEU/Z0oqFNwZVR9bGksRtQnUQ+LCkkCsQkUBYz4MevX2QnT69Ky35bvRgP1DmQOUQvdA2P9xfqR/Uz/T/uJ+E30NPOL8qrxQfNg9Fj6CgEwCQkMTQwqDokPIBSdFlIY1RJqBv/2dOVW2zfadOJ27Q72M/rO+eD1nfAh8AfzVvgA//D/Lv0N9/btOup95yTrP/Ky9Qj3v/fU9PDwaPRq+KADZQm0JbtMmFgPbaZiHUBTHK79D/mX8yUCVQ2sBpb+xusw4n3gV+c0+MoI3RGaDEr/0e+m5ffk3u/N//8HOQkGAmX7pfaC9mL+3gf+EDYT0RLWCKb9Bffv9PH7IwBQBygGaf6y9XrrX+n15+3vmvm//5sB8ftx9OToVeWZ5+nsC/XP9nn5A/iV8QjxxfDu8vn1Mfjs9yPx6Owm7TnshPPG/JgE8SprSbda4m6cV+g17Rf+BLwGcAr1GioYGAmP+x3nXeHQ4ZjnrfPF+Qf5+/FD6+jovevG9h4EXAxBEOIPBws1Bx0FogMKBO0CbvtI+w/5xfK49M70MvaF+TL+uAJTA00DQgFLACH+HPny9/D18+8+6m/kr95Y2m7cUOQ17Yb1s/18ASUA7QDqAC4BCQPo/e72pvD95/rp7usZ8/b72QDXKEBGk1j2awRU8TUFGMkKyg2jEZcg+xhgCvL2nOH13Frcv+SQ8RL71vrA88DueOmB6Zz1WQNyDFkThRFMDYMI8QA9/lT57PYg9wn5Efww9hv7wv7K/woFdwIiA1z+kQCwAOb81vtk8QPulOf/5dbnFeZ76KjmlOnG7X7z+/qdAAEFIwViAyP+3fp8+T306vMb8VXrluoU5+nrj/AG/cYqvUXfXgtsVFNaNoEX1Q9WDSUXSCTaHMYMlPOX4rPXwtpP5u/0cv5p+VD1OO256BztHvbmBOcNjxAHEKAHKgDg+nn5QvxU/FoBOQB1+eL1I/Lf9tT5T//QBCUDrQKy+2L4XPUN8kXz7vIW8kzvAO4362Xr0O1g8Z/2FvlE+r/5Efw8+1n7nv1T/Zr41/Au7bfom+j86o/zf/iwDJ4wrUHEUThO4T+cL4MjriVnIJcirRsfDWn9ue0H5qPlOeug79H4c/YB8pvsO+le7ajswvhi/gr+hwPnAPMB6wGIAiEFHwNcBDsF5gh7CAMDUwHu+zP66PuD/Kz7o/To8wfz3/PT9e31/PUf8/jx+PJ69Xr3Nffu9mX17/A076nvavBF8NPxfPbu9x/3yvRo8M3r9+zx7RL2JPyrA2cqIEADS5NTjUHBL/gdTiFUJF4ktioKHFsJrvWj7Qjr0+r+8LL0CPUq7xDpmOP341nl4e4p/CMAiQZRB2IHAQmhB68MqQw+DI8KMgdMAzv59vMs80z0CPZo+gj70vdP9aTzDvb+9vT5Fvzc+zP6nPX19e7ysO477tPtQO7M7EjuO++x7LLuxPH79UT4bvqM/BT61Plx9Sn4m/uGCVkr/jrCQks/li7jInkc7CK5J/gpYigGG6UJovqg8+vxw/Lf84b1FPHv53/i4N/d4RfofvTW/E8AIgezBw4J+gpfDDYQog5UEJMNnAdFATL2avCi64Ltb/LG+DT9evtt+1j3a/at9336SP25/DP7P/WX7vrnoOXX5vLr8fGs9IX3RfVQ8l3xZPCq8h70pPYf+dj4pPiZ9jj4jvykECku9TzdRjM/GCx/IK8ZmyPxK+IuYS48HbELdvs+9C3yWPBP9nf1ZPK16rHh599435TozvSa+s3/3gDd/z0BvwMgC2QPSxD1DiQJhAM8/XL5Hfcn+Vf9ef3Y/Zz5NPSL8tjzHPga/TIBV/7e+afz+uxj6njqDe4U8LzzBfbp9b/11PRu9Un1ffYs+D/3j/Y69kb2FvdA+eT8iv8EBIUFRxKQIokp6jECLXQk1Rw/H6UlaiUlLNwk2hlrD8cDcv8E9xr2k/Rd8aTx/Ol35srgad4c5Y7sfPje/8gGTwqpC3APkBGnEXIQGw84C0UGn/9P+dXx/e5V73jwNvWv9tv4UPhK+KP4Dvfl9jz1J/RJ8bbvN+7J7H7uVu8185L3BPlb+wH5BfUK87fyLPYL+lD9w/4aAJ8ADQHLAUoBsgISDSAaeCIeJ5EghximEWIWECEGJzculieoHkYS2wq0CE0D1ASbAPv8nfU17ZPm6N0r3jniEumc8SX5GP/zA14IOw29DvkO5xDAD4kOfQrgA4H6nvMF8rDv8PAq8rbyKPJq8kb0WvO88rzycPKF8VvxpfFa80H0lvRS9zz32PeH+XT5Jfjc9bP3ufgV+tn9Wf93ADgCwAR0B1gJGgpPCIgFUQebCVsNvBBDEkgRQA+vEuIRUxiWHWMhdSUrIRcfZxQzDSQFTv2y+2/3R/W57fHnneOu4eHn1O9I+9gCCQcHCqIJdAmkCTYKpAnIB14EEf8x+Iv00vHN8SbyEvRC9UvzRPRB8urzb/Qm9mf34vVU90P2FPgm+Jf5tPqp+SX6cPh59xf2FPYc+M378v+EBOYHOQrZC+ILfgzTChwIEAWXAjMAmf4W/tb9C/8QAbsEfAn/DGwQnBItE9ESvxFNEKUNMgtNCLYGowNaAbb+x/su+0/6UP4oAgEFYgf3B3gHHwUaBTwEdQJmAVn/Df1i+uL4sfcI95n2tfYv+KX3E/j79kz3dPdP91P6GfqN+sz5//q1+/77I/6J/R38mvoB+Y/3Kfd89r34Y/lZ+xP+DQDLA1cF4wdGBy8GFwQMAV4AR/9G/03/af+D/+//cgFCA4cEoAYfCFgI2QjdB3MGaAR7A9kDCgRCBGACy//l/Gj77vxo/7UCbwVtBccEXgSsBH0FhQZjB70FAgRMAq7/+/1E/un+Iv/t/4D/Zv6r/cP8gvw1/bD9Pf5K/iz+K/6m/jn/Mf+R/5f/Fv7i+6j6uvgW+JL47fgB+cj4pvk8+w3+PgFsA5QD9wGy//T8yftE/Fz9cf7U/hX/iP5O/kT+s/4zAGYCzwWwB9QH+AVxBOMDzgPNBLsDKwHz/S38LPxE/fb/sgLTBP4FcAaEBgEGtAUlBrkFHgSRAS7/+/yV+6L8Bv7r/n7/W/9f/q79uv2F/UH9xPzb/Bz9BP6A/14AmgG3AVUC7AJmAg8Bm/1x+x76RvlW+m/65/oj+6n7GP6g/5IBdwJvAWMADv8G/87/ZwD3ANIAVACZ/7j+c/4c/tf+dQC2ARIDMQN1As8BwgEVAm4C1QHp/2j+Vv2I/ST/QgHKAokDBwRFBIcEBAUXBZAEjQPlARMBjf89/t79af2K/lP/+//I/9H+pv6//cv9z/1T/ef9o/45AKcBCQI4At4BGgEaASoAm/4g/QX7Yvoz+hT7PvwR/UH+G/+qAHwBCgIVAmcBggBIAEUArv/p/0UAAQF5AVYBdQA2/53+pP4EAFwBLQKTAg8CmwEoAQYBnwDb/2X/wf4K/mz+Tf8pANYAJQFaAe8ArQH/AZcBiAFOAOr/rP+r/5//9v4I/x7/OwCNAbUBKwELAJ3+4v0B/m/+Zv96AMIBUwJaAjUCEAFLAMj//P4K/ib9cPyu+6H7L/zp/D3+DgBmAZECmgJQAWoAaf9H//z/qgBQAZUBuQE/Aa4A/v87/8v+A/99/wUAWgApAJgA+ACqAaMCMwOTAhoB3v9Z/tP9R/7B/vb+Ef8P/7j+6v6l/zMAqgDSALoAwwDnAJ8AGQCx/zH/7f+lAKUAYwB6/4T+ef0r/V79BP4t/9AAYgJkA5MDNAO7AsUB7wBqAF7/LP6r/QD9s/x5/V/+nP+iAJ0BxgGdANn/Jf9S/10AIAHUAYoBwgA/ALj/OADAAO0ARwHYAJEAYABhAMIADwHiAXoCHAI0AfX/bv70/WX+9/7F/8f/1/9i/9L+Gf+d/vD+KP80/83/l/+l/6X/2/9jAMYAkgGOAd4AfwCi/9H+N/6F/SL9IP2j/bL+EABCAUACCANWA+oC3QEAAQcA2v64/mD+GP4r/iH+Y/5r/oT/JQBsAAQBhgAcAOb/CAAFAOH/kf8F/wj/h/9EANYAJgE3AYQBwgH8AV8CdQKiArgCrAI1AvIA2//0/sH+af8lAK0AmwBYAO//K/+X/gr+q/3c/R/+dv5Z/m7+rf4G/xcA4QCVAdgBhAGqAHT/jf6p/ej8Z/yi/HX9xv5qAIEBXAJ9AncCJQKKAf4AYQDz/2P/Hv9c/tz9VP2M/aP+AQBOAWYBNwFVAM3/mf/b/x8AEAALAKj/0/8vAIsAIAGnAYcCRgM6AwADQQKUAWMBnQG8ATEBrgAUAHf/cv+L/+r/fADrAFkBNQGqAAoASv+Q/v39kf00/Qf9Nv3i/cj+i/9LAMcA/gAQAQMBogCs/6H+t/3V/Kv8L/1B/n7/NgDvAAYBwwDZABoB0gBtAB8AaP+7/h7+6v3P/Qr+of4i/xn/o/5W/nL++v7g/+4AVwFgAV0BUAGtAeoB4QHPAXMBYwFLAUgBYgGNARkCegLhAtUCGQJtAfQAzQD6AFABJgHrAP0AggAWAIT/2v4N/q392/15/cD9Q/6Q/jf/8P+VANUAEgEfAcYAZwDk/x//Pv6t/XL9uv1D/rb+Sf+H/8r/LwCSANkAtABbAMr/Zv9M//r+4f6O/vv90f20/bn9qv3M/Qr+cv5e//7/dwDZACIBgQH/AWICIgKjAeoAdgCRAB8BtgEHApAC2AL5AgMDrwJlAhUC5QHqAZQBBwFqAAoAIwAcAEIA0f/z/mz+1f0E/hj+R/65/hz/yP9KAMUA8QD9APIA0wC3AHMA/v9f//3+//42/3X/l/+g/6X/tf/R//n/dP8I/4r+Ff5T/mD+nv5c/g3+2/1X/T/9Kf1a/ar97v1r/oT+nf4A/2L/4/96ADsBjgGqAbcBmwGPAawBIgJsAtICNgM0A/oCbALLAXsBVwFwAakBvAFvARkB8gBmAAcA1P9v/+P+eP46/gz+K/6W/jv/uf9RANwACQEPAf4A4gDNANwA4gDeAJQAPgAIAPL//P/2//z/xf+K/2//Of/x/nn+Gf7l/cz95P36/Rj+Ov5g/mz+Jf63/Wb9Sv2j/Qr+X/65/tX+K/+W/yUAyQBcAfcBQAJgAkcC8AG3AaQB1AEWAiUC8wGpAWYBUQFyAVMBeAGEAY8BmgEgAZUAv/89/+3+mv5j/hL+Cf44/sb+tf+GAAYBOgFXAW0BUwEZAdsAmAB3ALMA4QDMAKEAYABCAFEAegB9AD8A5P+K/wD/XP6u/ff8ufzo/Jr9Qf6+/hP/wv5s/v39v/3P/fr9Pf5G/mz+c/6h/jH/5//bAL0BQwJmAjsC+gG5AawByAHkAfoBcwESAdMAfQC/AOsAAwEmAVoBhAFWATQBxQAQAJT/If/x/tT+vP7O/tr+a/8FAJ0AHAExATsBIgEVARYBJgEaAf4AFgHtAJUAagA5ABwARACCAGkAIwDe/3H/5v5B/ur9iP1W/Z79Fv6K/rn+4/6T/gb+3P30/Tf+l/7O/s7+tf6Z/rn+//6a/0IAzQA/AU4BSwEPAf0AHQFdAb8BywGNASwB6ADNAOsA+gAlATUBGQETAdwAngA8AAIAtf+H/4r/i/+//87/HQCdAAwBUwFtAUcB8gDZAMAAsQCzAJIAegB3AFcAKgAdAB0AGgA7AE0AKgDv/6v/b/80/wn/3v65/rb+zP76/hz/HP8D/9f+0f7p/gb/N/8+/zD/JP8M/xL/Nv99/9H/EwBFAFgAXQBVAGMAdgCSANMA4gDSAJ0AXQAsABMAJQAUABAADgD8/wEACwAXAB0AEwAAAPD/yv/K/+b/EABgAKIA0ADGAKIAdwBSAHIAqwDPAOQA2wDMAMMAtgC6ALEAmgB/AE8AEQCz/3H/X/9Y/1v/Zv9j/0T/NP9A/1b/UP9V/1z/T/9D/zD/JP8M//P+9v78/hb/Sv93/6//5v8aAD4AVQBwAHMAiQCSAIsAggBsAFUAHwAHAAcA/P///wUADQAWAC8ATQBUAEcALQAEAN3/wf+//+P/EQBLAIMApQCUAHkAbQBbAHcApADFANMAzQDGALEAqAChAIYAZgA/AA0A7P/H/6P/o/+2/8L/wf+v/6v/rv++//L/7//m/97/u/+O/1n/MP8C/+n+Bf8h/03/hP+a/7z/8P8cAEUAUQBNAEsAPwAzAB8ABwDz/93/2//n/+H/2//j/wAALABSAHMAZwBBABoA4/+m/4n/gf+K/6z/3v8TADMAVwCFAIgAkQCYAI8AkQCDAIIAiACRAKQApQCdAIsAWwAlAPL/1v/b/8r/tf+v/5b/gf+B/43/ov+//+f/DgAQABAA8v+2/6n/nf+Q/3r/Yf9J/0b/a/+a/8v/EQBKAG8AhQCCAG8APwAIAOT/1P/K/8f/s/+v/7j/zf/2/xMAMAA+AEUAOwAXAAUA+f/n/97/3f/g/+n/8P8EAC8AVQCGAJ0AqACrAJQAjABzAGQAYABRAEsAPAA7ACMA///m/9f/4//d/83/vv+v/47/af9c/2X/ev+f/8r/+P8gAE4AfACDAH8AYwBEABwA3f+1/5D/kf+f/6z/yP/W/wsAKgBIAHIAfAB1ACwA8v+7/5D/bv9P/2H/XP9T/1P/af+g/8v/9f/+/83/k/9Y/2n/mf/k/4IApADlACkBlQGXAlMD+AR4BnIHVAddBpIElwFx/n77N/nS9ir1KvQr9Lz0V/Z++PP6K/3m/n0AaQEGAl8CKgPvA9AEngUiBisG0gV8BRQFbgS7A+kCsAFXABL/U/7x/dP9HP6s/g//RP9V/0r/Pf8O/y7/i//q/zAAUgCMAKsAIgG8ASsChAKgAooCUgK2AQABMAAu/zr+b/3e/H38PPwz/JL88vyM/UP+Av+X/xcAggDtAFYBoAEYAmICjgKEAkMCwAEaAZUANQAEAOD/9v/v/87/xP++/9D/vP///1oArQDKAAABDwHGAHwA//+s/9r+I/6V/Sv9hfzg+5L7hPuA+3D7jPu4+xD8NP1j//0BVwVmCKELOA32DQgNJgtHCAgF9AFe/yD93/oA+qT4o/go+OT4K/mn+UT6ufpb+5j7fPw0/Xb+eP/4AAAC/QJQA28DjQMRA+wCZgLnASkBmgBXADIAdQDcAKYB+gEcAuIBaQGMALL//f4W/0P/+f/AAGwByAGqAWwBhQApAC7/uP6U/f78S/zH+4n7oful/NX8y/3S/U7+AP5g/o7/qwCKAuYD0gV8Bj4HEwedBrYFNgTVAl8BHQDS/i7+xf2R/Ur9RP1E/Vr9SP2z/d79+v0y/o3+g/+3APkBcQPsBL8FQQYQBugFOQUmBBsD1wFvAP/+sP2Y/Nf7nvuc+7X7+/tP/Mr8Cv0j/UL9Xv2m/ef9N/7V/ob/PgAfAfkBkALPAmsCzAEKATgAmf9H/x//Sv+m/0EAxQA0AWkBkgHAAbIB9gHdAdEBaQHtAEsAif+n/v39z/2r/QH+Yv6//lj/6f+hAEoBswHPAZEBUAH3AN8BpwLjAykEdwQ6BOECHAHU/pf9fftT+vn4zviE+Hn4+fjR+ef6evuR/O78gf3w/QL/LwBcAXECkwOZBEQF5QUfBlQGOAaUBZAE/AJ2AaP/8/2t/PH7tPuy+wf8ofxc/ej9iv5B/zYAxwBqAeEBNAJ/AscCJANnA80DAgQVBNkDsQNkA9sCWQLPAegA7f8M/1D+v/1a/WP9Uf1v/Uj9Xf0b/vr+TgD1AA0CrwKvAngCrwH0AHf/qv7c/fD9Mv5B/hz+hv1H/Xz8YPxM/MT8P/2h/Sz+l/5D/67/mAChAZwCHwNsA50DFANyAqoBIwFpAG7/s/5f/p3+/f6E/1cA6wBlAcgBNwIyAqcB3wAUAE//fP4W/ur9S/7n/tn/DAFVAgkDRgMSAy8CQQEiAAv/Mf65/Tz99PwJ/Z39of6z/wQB/wFTAv8BPwFgACf/Vv7S/SH+qv6Q/xIB+gF3AioCwwGnACv/8f07/T/9kf1E/ur+hv/s/2QAFQGVAd4BwgExASwAM/+//nv+nv4P/53/OACAAM8A+AD0AAMBFgFgAXUBigFgAbEA4//2/nH+Iv7T/S7+jf4c/7n/8v8iANf/i/80//z+3f7q/n3/SwDxAEIBXAFTAT8BVgHtAaYCCAMCA00CCQF0/zL+g/2h/Wv+Yv9gAMYAdgHUAYUB3ADU/+v++f1v/W/9DP7d/mn/xf/N/8v/0/8+ABYB5wF+ApkCVwJCATwAKP9o/k3+Yv4t/+T/mwDVAHIAnf+b/hD+5/0i/rX+XP8FAGkAmAAfAVYBYwFmAW8BKAGJAPX/KP9//vH9of2w/e39z/7//xwB8QFmArACoAI3AmMB6wCoAI8AogC9AOEA3wCzAA0AM/9r/iv+V/6t/hH/Nv82/0f/aP+d/9n/+//U/2b/Bv/X/hP/0/+dAH4B+QHzAVoBZAC7/y7/JP+1/2AAmwCoAJ0AVQDB/xz/V/6J/Rb9Sv0W/vb+FgATAa8BwwGEATsBFgE0ATgBBAGCAAEAtv+H/7H/BQALAKv/Sf/w/s7++v5h/8j/7f8OADMApQD+AH4BuQGKAR8BdQA1AEoAiwC6AO0AvQBgAAIA2/8NABYA//+u/z7//P4A/y7/Qf9x/7n/5v8FABoAXQCSAIUAXgAvAOT/pf+K/47/sf/H/9n/yv+U/1b/Nv8L/wD/Qf+U/wgAbQCSAHcAUgAOAMv/wv/R/xEAPAA7ADgANQBRAFsANQABAO//yP+8/6//ff9o/zv/7f6m/r/+Pf8XACkBEgJdAhsCZgGOAL7/Mf9Z/7X/PgDHAEUBigE0AVcAM/8h/lD90/z4/Gn99P2U/kb/LwDiAIcB/wFfAnsCbwJXAu4BjgEMAXcAAgCj/4v/ov/K/zwAjwCXAEgAyv8t/37+Df7r/RD+Yv65/uf+8/70/iH/Vf+8/2YA6wA+AVkBYAEZAbMAbQA8ADkALQBkAJ0AsACeAH8AcABtAJEAqwC2AIYANgDT/2z/Bv/U/sX+xv76/ij/ev/B/woATwBpAGAAHwDe/4b/W/+L//b/bQC8AAQBOAE+AS8BCgHNAIAALQDa/4T/RP8k/wv/JP9H/1L/Tf80/zP/Fv8J/yr/Rv9r/5n/uf/s/ykAYwCdANgA+wD0AM8AlQBeAEQAPgBmAIkAdgBLAP7/sf9s/1P/UP9y/7H/AABSAHoAmACiAJ0AfwBbAB8A0/+L/0n/N/9A/3f/0P8tAHwAlAB9AEIA7/+X/2H/a/+g/+D/LQBmAJoAwADDALYAmAB5AGYAWABaAFoAMgAZAAUA7f/T/6z/ff9T/0D/Lv8h/yL/Pf9b/2n/Zf9u/53/2f8dAFEAdwCbALQAzQDSALwAlABmABwA4//F/8X/+f8vAHkAtwDcAN4AsABaAPL/gf8u/w7/Ev80/2//sv/m//v/7P/T/7L/o/+f/7H/xP/q/wgAEQAfABkAFwAaADkAZwCMAKEAmgCDAFEAHADy/9b/vP+8/93/BQAtADUAIgDm/6D/Uv8P//P+Dv9K/4D/v//5/zIAYQCLALkA1gDbALkAjwB1AFsAVABtAKoA1gAKARMB6wB1AMj/Ov+7/pn+nv7S/ij/gf/Q//n/FAD5/8v/lP9e/yX/Bf8D/zP/kP8QAKIABgFFATEB7gCRADgA8P/E/8H/y//s//n/DQAcABEAGgAZABwAFAALABMAHQApAEIAVABLACcADQD//+n/8P8OACYAMgA5ACMACwD+//P/8v/t/9f/wf+u/7P/tv/Q//D/CwAlABQA+//g/8L/gf9v/2X/i/+v//X/SwB2AJ4ApACfAGAAMwDz/9D/jf9f/0r/Qf9G/z3/W/99/8v///9BAGoAcABYADkADQDk/7H/hv96/47/1/88AJQA2wAGAfsA5ACwAIUARwAZANn/pf97/2j/fv+Q/7X/0/8NADkAagCeAM0A9wASARwBDQHlALcAnQCIAIwAiABmADsAIAAAAOn/4//Z/8H/l/9o/yL/4/6Z/lb+KP4D/g3+If5D/lf+Zf5d/lP+NP79/dv9vf3n/Tf+pP4Z/5D/GQCnAAABFwENAfUAzACtAL0ABwFzAbwB9gEHAvoB2wG2AYsBhAGNAYQBiAFyAVkBMQEGAdUAggA1AN7/r/94/3H/fv+L/9T/7/84AHYAzQAGASUBRwEdAQMBqgBpADwA8P8NANv/y/+B/yX/z/5J/uH9Yf0m/cz8uvx9/GP8LfzX+4P7FfvC+oP6Z/pM+l/6cvqm+rH6IPuB+1T8L/1y/rv/4QD6AZQCPwNSA6IDbAN6A0kDYgOlA+kDRQRfBLEEpwS7BGQEVQT/A6gDMQPnAqwCewJQAkMCogIIA8UDfARwBWEGOgcoCN4IbQmsCaYJRQliCCEHUQVuAzIBzv5z/Az68vfs9Vf06/Li8R7xsfCJ8JLw+/B68SLy1vKz85n0qfW79tP39/gk+kP7avx4/YL+a/87AOUAbAHLAQoCRAJSAlUCOgIZAvMB1wHJAaoBkQF4AX4ByAHwAYICvAKAAxgEMgWEBsQHwwkfC5wNEw9iEakSARTJFJUUhxQREygSqA/CDewKQQhXBUkCaP9F/I75rPYN9Kvxg++g7TvsF+ud6lbq5Oqy6yvt8+4N8YrzKfYZ+Rz8WP9gAh8FlwecCQ0L9AsyDPQLCguyCb8HeQULA14Ay/0t+8v4kva/9CbzAPIN8aPwc/Dl8LDx8PKB9Dr2afiE+uz8Mf+XAZoDvAWHB0UJawpjC7ALsQteC2kKqQkuCKoHbQZkBlEG/AZYCFwJyAsODacP6xCyEqwT6hNYFBcTshJIEOMOIgzOCVAHQgTzAcz+kvyO+S/3U/S48Svv4+wL61fpNuiP547nLuhx6Ubrwu2T8P3zO/f7+mn+xQHfBFQHdAnYCtgLEAwBDCkLyQnpB2oFtgKA/1T8E/kR9lDz5fAF79DtZO2w7aDuNPAv8qf0Ufc/+jT9GQAGA2AF4wfGCYwLqgyODRoOQg5rDiQOVQ5fDhcP7w8KETUSdBNoFCkVVxUIFUgUlhIHEVYOLgwOCV8GkAPPAJH+0/sr+uL3nPbP9LXzafL+8Abwy+4p7kjt3uyq7Pjsi+2I7tvvjfGd89P1Xfj1+rf9MAByAk8EwAWzBjcHQwe8BvoFkgQ3A2UBjf+G/Vj7f/mb9wz2mfSV8+rys/IK87rz/fRz9kr4VvqM/LL+6ADIArcERQbJBx4J5QnDCroKCguVCjwKkwmZCDMIYwemB+4HIAl9CjsMUA5jEGASEBQlFdwV2BUpFQEU4REIEAkNzwrmB4wF0gIiANv98vrk+O/1pPOx8BburOtl6bfnOeZn5QzlZeVw5vHnH+q67L7vCfNY9sT5AP3+/+YCTgU0B7IItAlwCsYKpAo2ChsJ2gf0BeIDgQHF/kT8d/lP9/P0S/ME8mrxevH18Vnz/PRY97z5TPzr/k0BsQOiBY0HGAl2Cr0LhAxGDTsNOg2pDLAL6QpkCUcIGQdCBogGiAYOCB0JXguEDSYPkhHqEYMTvhLUEmARtA8UDmAL4AnSBioFPgIHAIL93fpg+JP19PJD8LPtTOsp6UTn/OXY5KfkxOTT5ULnfukw7FnvyvJV9ij6sf01ASwE9wbwCJYKqQsVDEAMsQsiC+wJyghyB/IFegSCArkAhf6U/IT6qfhO9wH2ffX89F713fWh9u73A/nd+kL8/f11/9MAaAKNAx8FWga4B8cIhwl5Cm4K2QoZCtMJ3gjEBz4HCgYVB6AGkQguCWYLhw3rDp4RnRHyE+cS1hNiEnIRGRClDXgMXgm/B1cE8AFo/kX7eff88yXwn+w06Trm/+Ps4SbhX+BY4UjiluTK5v/phu1e8Zf1Xfmj/SUBAQXbB60KtQxWDqcPShDnEKcQGhD/DqMNBAwECsEHHAUJAkr/Uvzj+XL3n/Vm9FbzQfNF8/TztfSf9fj2HPiT+cH6EPyF/cz+TwCUAWgD3ASSBskHFwnvCeAJRQrtCL8I3gbuBYYEXgOABBsE3AZjBwELGA2qD4ES7BJdFQ4UHBXLEhUS9w93DaoLjgjrBmQD+AAj/fn54PX48brt8Olc5mzjGuF03xPfT9/O4MTiy+Xb6KvsjPC19Mb4lPxFAKkDHwekCUQMMw4KEFYRGxLFEpESMRLSEFsPeA1HC9EIxAUCAxwAnv1S+xL5bPfH9df0xvNq8wHz5PIN8yLz8POj9OL1J/eg+KD6g/wC/yYBYgObBSUHtQg9CYAJBQk+CDIH6wXQBP8DmQOkBA0GXwgaC4oN2BCjElcVfRUGFvoUgBMFEiYP/A2wCsQJEgfoBZwDbAG2/k77Dfhz84vv4+qC59TjpeHK36zfFODM4QrkIeep6iju9PEu9Rb5HfyK/zUCPAUuCM0Klw3DDxYSoBP7FJQVTRVqFLISkhDeDcAKOAe1A1oAaf3C+nb4qPYD9efzt/IA8h3xcfD474Pv4O9D8GrxE/M99fL3qPrT/bwAiQPABZkHsQg5CTEJlAgMCOUGmAaZBRoGCQZmB5AJJQshDqAOaBFZEZwSwxFNEJwP7gz2DCAKpQrECNcI0gfkBhEGhgOOAUT9Qfow9Xzx+uzx6fXmOuV85Kfk4+VM53zpiutG7orwKfMd9e/3MfoM/Y7/kQLWBcoIDQxxDuoQSRJoE4ETERPMEfoPwQ2kC7UJtQf9BRQEowIHAYb/0v3m+8n5nPdq9Vrzn/Hv79XuaO7R7rzvNvHh8v/0BPfh+J36//tX/U3+TP8+AE0BRAJEAywE9ATNBfEFbQZ5Bp0G0QZBB+wIGQrPDGcODRHkEoUU1RWUFVQW+BTHFNAShBF5D44NeAugCCYGTwLt/oz6kPbS8bzttunD5mbkJuO04gDjGeRs5XTnh+lD7Oju/fEM9Xz4HfwNAN8D3gdsC8cOshENFKsVLBYyFiAVCBT6EQQQzQ1wCycJiQaJBDoCiQBr/pv80fr8+Jf3xPWd9Gbzz/Jz8lHyz/I78/Pzk/R09S/22vaU9/L3lfgJ+bj5g/qV++L8Ev6D/64AVQJfA5UEBQV/BesFtgVaBucFGQdyB+AJqgzSD9kT9xXlGc0auxy5G2Maexh3Fa4T3w8SDsQK+QgHBi0Dsv9c+8H2S/GL7HbnqeMt4ITep92Q3kbg5eLU5Q/pcezB7wfz5/XP+G77of63AaEFWAkuDfAQFRSmFv0XexhGF1IVUBLZDmQLyAfvBDUCbQD8/v39yfyh+1P6vfg790L17vN58hDyMvLc8hP0ePVa9yT5+fon/LP8q/ww/KH7+/pD+uD5rfkb+tz6EfyC/cz+BQD3AAcCrwJQA0wDdQPOA2EElQWLBj0IGwoZDcIQUhTmF+8Z7huNHI0cUxudGD8WAhO0EHcNggoeB9oDmgDH/Or4QPQG8GHroucC5KXh2t8x34TfgOC54i7lSOgp67buBfLy9ab5Uf0aAQgFcAloDTERFxRvFpYXGBhpF7kVORMsEP0MugmhBqsD+gCg/pT8sfrn+Aj3rPUe9D3zOPL48Tny7fKL9Az2PPjn+RT8Xf2U/jr/M/8o/1/+3/3s/JX8Qfxx/Lz8Mv3Z/YT+Sf+Z/7//pf+5/6//JQCaALwB/AK0BF8GFghOCooMmA/5EZgUNBbHF6wYuBgnGHwW0BRoEmYQlg3TCm4HGgSOAKr8pvju86zvP+uk50nkAuKM4Dng4+B84tHkf+eg6qPt7PAt9KT3D/us/jsCJQYnCjkO8xHdFBgXNxiAGKcX6hUtE+gPXAzZCJUFdAKu/wb9t/qU+LT2C/V88z7ybfEh8VvxH/J+83j1xPdh+gP9df/aAbQDIQUiBqMG/QYKBw8H5AZ4Bt4F/wTHAwMCIwD3/fj7//k4+Ov23/WE9YT1Cvb79iv4a/nB+hr8nf0P/2kA+QF7A4gF7QeqCl4N1Q9VEq4UoRZ6F1QXOxaDFDASsw/qDB4KlAcnBdECUgCY/Y36KfeE8/Dvguyg6VTnGObt5STnQ+kI7AzvRfJ+9XP4aPuz/f//KwKWBCgHpgkoDH0OtxBiEmITfhO1EgcRtw7lC7wIcwUVAvH+P/z9+Sb4hPYq9eTzyPL18UnxCvEj8aXxuvJr9Lv2bPmG/M3/DgMxBtEI+wpsDHIN1w2lDTgNPQw8CwUKqwjkBhkFxQJRAA==\" type=\"audio/wav\" />\n",
              "                    Your browser does not support the audio element.\n",
              "                </audio>\n",
              "              "
            ]
          },
          "metadata": {},
          "execution_count": 20
        }
      ]
    },
    {
      "cell_type": "markdown",
      "source": [
        "##Language Identification"
      ],
      "metadata": {
        "id": "QvHoFhc5VK4q"
      }
    },
    {
      "cell_type": "code",
      "source": [],
      "metadata": {
        "id": "kv43TRXcVLxr"
      },
      "execution_count": null,
      "outputs": []
    }
  ]
}