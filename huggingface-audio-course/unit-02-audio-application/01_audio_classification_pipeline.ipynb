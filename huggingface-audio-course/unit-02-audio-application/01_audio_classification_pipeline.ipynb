{
  "nbformat": 4,
  "nbformat_minor": 0,
  "metadata": {
    "colab": {
      "provenance": [],
      "toc_visible": true,
      "authorship_tag": "ABX9TyMHzNAhTG4BhKKK6PN4+D8c",
      "include_colab_link": true
    },
    "kernelspec": {
      "name": "python3",
      "display_name": "Python 3"
    },
    "language_info": {
      "name": "python"
    }
  },
  "cells": [
    {
      "cell_type": "markdown",
      "metadata": {
        "id": "view-in-github",
        "colab_type": "text"
      },
      "source": [
        "<a href=\"https://colab.research.google.com/github/rahiakela/audio-processing-research-and-practice/blob/main/huggingface-audio-course/unit-02-audio-application/01_audio_classification_pipeline.ipynb\" target=\"_parent\"><img src=\"https://colab.research.google.com/assets/colab-badge.svg\" alt=\"Open In Colab\"/></a>"
      ]
    },
    {
      "cell_type": "markdown",
      "source": [
        "##Setup"
      ],
      "metadata": {
        "id": "CnSDLCsqHQ5p"
      }
    },
    {
      "cell_type": "markdown",
      "source": [
        "**Reference**:\n",
        "\n",
        "[Audio classification with a pipeline](https://huggingface.co/learn/audio-course/chapter2/audio_classification_pipeline)"
      ],
      "metadata": {
        "id": "KbPVpz79MjbL"
      }
    },
    {
      "cell_type": "code",
      "source": [
        "!pip install transformers\n",
        "!pip install datasets[audio]"
      ],
      "metadata": {
        "id": "F7YnGsIkHREn"
      },
      "execution_count": null,
      "outputs": []
    },
    {
      "cell_type": "code",
      "source": [
        "from datasets import load_dataset\n",
        "from datasets import Audio\n",
        "\n",
        "from transformers import pipeline\n",
        "\n",
        "from transformers import WhisperFeatureExtractor\n",
        "from transformers import AutoProcessor\n",
        "\n",
        "import librosa\n",
        "import numpy as np\n",
        "import matplotlib.pyplot as plt\n",
        "import librosa.display"
      ],
      "metadata": {
        "id": "uj-xeNFDHVfT"
      },
      "execution_count": 8,
      "outputs": []
    },
    {
      "cell_type": "markdown",
      "source": [
        "##Dataset"
      ],
      "metadata": {
        "id": "sGrmWoH3Haoz"
      }
    },
    {
      "cell_type": "code",
      "source": [
        "minds = load_dataset(\"PolyAI/minds14\", name=\"en-AU\", split=\"train\")\n",
        "minds"
      ],
      "metadata": {
        "colab": {
          "base_uri": "https://localhost:8080/"
        },
        "id": "BPlC_Yu_Hb1d",
        "outputId": "7af415e7-1ae1-441c-91fc-770376af8890"
      },
      "execution_count": 5,
      "outputs": [
        {
          "output_type": "execute_result",
          "data": {
            "text/plain": [
              "Dataset({\n",
              "    features: ['path', 'audio', 'transcription', 'english_transcription', 'intent_class', 'lang_id'],\n",
              "    num_rows: 654\n",
              "})"
            ]
          },
          "metadata": {},
          "execution_count": 5
        }
      ]
    },
    {
      "cell_type": "code",
      "source": [
        "# Let’s take a closer look at one of the examples\n",
        "example = minds[0]\n",
        "example"
      ],
      "metadata": {
        "colab": {
          "base_uri": "https://localhost:8080/"
        },
        "id": "kY9QrRSwH6y3",
        "outputId": "2f6fbcc4-2c98-452a-ac7a-183e359c245d"
      },
      "execution_count": 6,
      "outputs": [
        {
          "output_type": "execute_result",
          "data": {
            "text/plain": [
              "{'path': '/root/.cache/huggingface/datasets/downloads/extracted/a19fbc5032eacf25eab0097832db7b7f022b42104fbad6bd5765527704a428b9/en-AU~PAY_BILL/response_4.wav',\n",
              " 'audio': {'path': '/root/.cache/huggingface/datasets/downloads/extracted/a19fbc5032eacf25eab0097832db7b7f022b42104fbad6bd5765527704a428b9/en-AU~PAY_BILL/response_4.wav',\n",
              "  'array': array([ 0.        ,  0.00024414, -0.00024414, ..., -0.00024414,\n",
              "          0.00024414,  0.0012207 ]),\n",
              "  'sampling_rate': 8000},\n",
              " 'transcription': 'I would like to pay my electricity bill using my card can you please assist',\n",
              " 'english_transcription': 'I would like to pay my electricity bill using my card can you please assist',\n",
              " 'intent_class': 13,\n",
              " 'lang_id': 2}"
            ]
          },
          "metadata": {},
          "execution_count": 6
        }
      ]
    },
    {
      "cell_type": "code",
      "source": [
        "# Resampling audio data\n",
        "minds = minds.cast_column(\"audio\", Audio(sampling_rate=16_000))\n",
        "minds[0]"
      ],
      "metadata": {
        "colab": {
          "base_uri": "https://localhost:8080/"
        },
        "id": "8Sa3M5N8XJs9",
        "outputId": "cdfe43fa-27fe-4a10-f555-fa36852e3d8a"
      },
      "execution_count": 7,
      "outputs": [
        {
          "output_type": "execute_result",
          "data": {
            "text/plain": [
              "{'path': '/root/.cache/huggingface/datasets/downloads/extracted/a19fbc5032eacf25eab0097832db7b7f022b42104fbad6bd5765527704a428b9/en-AU~PAY_BILL/response_4.wav',\n",
              " 'audio': {'path': '/root/.cache/huggingface/datasets/downloads/extracted/a19fbc5032eacf25eab0097832db7b7f022b42104fbad6bd5765527704a428b9/en-AU~PAY_BILL/response_4.wav',\n",
              "  'array': array([2.36119668e-05, 1.92324660e-04, 2.19284790e-04, ...,\n",
              "         9.40907281e-04, 1.16613181e-03, 7.20883254e-04]),\n",
              "  'sampling_rate': 16000},\n",
              " 'transcription': 'I would like to pay my electricity bill using my card can you please assist',\n",
              " 'english_transcription': 'I would like to pay my electricity bill using my card can you please assist',\n",
              " 'intent_class': 13,\n",
              " 'lang_id': 2}"
            ]
          },
          "metadata": {},
          "execution_count": 7
        }
      ]
    },
    {
      "cell_type": "markdown",
      "source": [
        "##Classification pipeline"
      ],
      "metadata": {
        "id": "JbgE3n98IzE5"
      }
    },
    {
      "cell_type": "code",
      "source": [
        "classifier = pipeline(\"audio-classification\", model=\"anton-l/xtreme_s_xlsr_300m_minds14\")"
      ],
      "metadata": {
        "id": "2zDl6pa2I5Wa"
      },
      "execution_count": null,
      "outputs": []
    },
    {
      "cell_type": "code",
      "source": [
        "# it expects the audio data as a NumPy array\n",
        "example = minds[0]\n",
        "\n",
        "# let’s pass it straight to the classifier\n",
        "classifier(example[\"audio\"][\"array\"])"
      ],
      "metadata": {
        "colab": {
          "base_uri": "https://localhost:8080/"
        },
        "id": "wEc9a4GYJRF0",
        "outputId": "07a69945-fc7c-4f24-c7b9-e534f16819a3"
      },
      "execution_count": 11,
      "outputs": [
        {
          "output_type": "execute_result",
          "data": {
            "text/plain": [
              "[{'score': 0.962530791759491, 'label': 'pay_bill'},\n",
              " {'score': 0.028672993183135986, 'label': 'freeze'},\n",
              " {'score': 0.0033498124685138464, 'label': 'card_issues'},\n",
              " {'score': 0.0020058127120137215, 'label': 'abroad'},\n",
              " {'score': 0.0008484353311359882, 'label': 'high_value_payment'}]"
            ]
          },
          "metadata": {},
          "execution_count": 11
        }
      ]
    },
    {
      "cell_type": "code",
      "source": [
        "# Let’s see what the actual label for this example is\n",
        "id2label = minds.features[\"intent_class\"].int2str\n",
        "id2label(example[\"intent_class\"])"
      ],
      "metadata": {
        "colab": {
          "base_uri": "https://localhost:8080/",
          "height": 35
        },
        "id": "RKpg2iv_Jthu",
        "outputId": "e9f58301-a96b-4f19-bc70-8d174d4e3df3"
      },
      "execution_count": 12,
      "outputs": [
        {
          "output_type": "execute_result",
          "data": {
            "text/plain": [
              "'pay_bill'"
            ],
            "application/vnd.google.colaboratory.intrinsic+json": {
              "type": "string"
            }
          },
          "metadata": {},
          "execution_count": 12
        }
      ]
    }
  ]
}