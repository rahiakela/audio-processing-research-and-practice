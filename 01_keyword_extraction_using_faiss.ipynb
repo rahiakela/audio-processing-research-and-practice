{
  "nbformat": 4,
  "nbformat_minor": 0,
  "metadata": {
    "colab": {
      "provenance": [],
      "authorship_tag": "ABX9TyOyxf1pZS8h9muZY/PRvT+U",
      "include_colab_link": true
    },
    "kernelspec": {
      "name": "python3",
      "display_name": "Python 3"
    },
    "language_info": {
      "name": "python"
    }
  },
  "cells": [
    {
      "cell_type": "markdown",
      "metadata": {
        "id": "view-in-github",
        "colab_type": "text"
      },
      "source": [
        "<a href=\"https://colab.research.google.com/github/rahiakela/audio-processing-research-and-practice/blob/main/01_keyword_extraction_using_faiss.ipynb\" target=\"_parent\"><img src=\"https://colab.research.google.com/assets/colab-badge.svg\" alt=\"Open In Colab\"/></a>"
      ]
    },
    {
      "cell_type": "markdown",
      "source": [
        "##Introduction to Faiss"
      ],
      "metadata": {
        "id": "BLPPphUi0c57"
      }
    },
    {
      "cell_type": "markdown",
      "source": [
        "**Reference**\n",
        "\n",
        "[Introduction to Facebook AI Similarity Search (Faiss)](https://www.pinecone.io/learn/faiss-tutorial/)\n",
        "\n",
        "https://stackoverflow.com/questions/70707551/saving-bert-sentence-embedding"
      ],
      "metadata": {
        "id": "275UI25f0iHO"
      }
    },
    {
      "cell_type": "markdown",
      "source": [
        "##Setup"
      ],
      "metadata": {
        "id": "APSRq6kS0oIH"
      }
    },
    {
      "cell_type": "code",
      "source": [
        "!pip install faiss-cpu\n",
        "!pip install -U sentence-transformers"
      ],
      "metadata": {
        "id": "N1Pj5L0k1wi_"
      },
      "execution_count": null,
      "outputs": []
    },
    {
      "cell_type": "code",
      "source": [
        "import requests\n",
        "from io import StringIO\n",
        "import pandas as pd\n",
        "import numpy as np\n",
        "import pickle\n",
        "\n",
        "from sentence_transformers import SentenceTransformer\n",
        "\n",
        "import faiss"
      ],
      "metadata": {
        "id": "yTbeoQNg0pH0"
      },
      "execution_count": 2,
      "outputs": []
    },
    {
      "cell_type": "markdown",
      "source": [
        "##Building Vectors"
      ],
      "metadata": {
        "id": "oNMFeczI2Yxo"
      }
    },
    {
      "cell_type": "code",
      "source": [
        "data_df = pd.read_csv(\"icd_10_code_and_keywords_v2.csv\")\n",
        "data_df.head()"
      ],
      "metadata": {
        "colab": {
          "base_uri": "https://localhost:8080/",
          "height": 206
        },
        "id": "V5FpsZKV_HUY",
        "outputId": "c63eae2b-f541-47da-f7de-1e3a2ab281cf"
      },
      "execution_count": 3,
      "outputs": [
        {
          "output_type": "execute_result",
          "data": {
            "text/plain": [
              "    Code                                            Keyword\n",
              "0    A00                                            Cholera\n",
              "1  A00.0  Cholera due to Vibrio cholerae 01, biovar chol...\n",
              "2  A00.1    Cholera due to Vibrio cholerae 01, biovar eltor\n",
              "3  A00.9                               Cholera, unspecified\n",
              "4    A01                     Typhoid and paratyphoid fevers"
            ],
            "text/html": [
              "\n",
              "  <div id=\"df-d7af8038-e22c-4520-8018-715e8f5baa80\">\n",
              "    <div class=\"colab-df-container\">\n",
              "      <div>\n",
              "<style scoped>\n",
              "    .dataframe tbody tr th:only-of-type {\n",
              "        vertical-align: middle;\n",
              "    }\n",
              "\n",
              "    .dataframe tbody tr th {\n",
              "        vertical-align: top;\n",
              "    }\n",
              "\n",
              "    .dataframe thead th {\n",
              "        text-align: right;\n",
              "    }\n",
              "</style>\n",
              "<table border=\"1\" class=\"dataframe\">\n",
              "  <thead>\n",
              "    <tr style=\"text-align: right;\">\n",
              "      <th></th>\n",
              "      <th>Code</th>\n",
              "      <th>Keyword</th>\n",
              "    </tr>\n",
              "  </thead>\n",
              "  <tbody>\n",
              "    <tr>\n",
              "      <th>0</th>\n",
              "      <td>A00</td>\n",
              "      <td>Cholera</td>\n",
              "    </tr>\n",
              "    <tr>\n",
              "      <th>1</th>\n",
              "      <td>A00.0</td>\n",
              "      <td>Cholera due to Vibrio cholerae 01, biovar chol...</td>\n",
              "    </tr>\n",
              "    <tr>\n",
              "      <th>2</th>\n",
              "      <td>A00.1</td>\n",
              "      <td>Cholera due to Vibrio cholerae 01, biovar eltor</td>\n",
              "    </tr>\n",
              "    <tr>\n",
              "      <th>3</th>\n",
              "      <td>A00.9</td>\n",
              "      <td>Cholera, unspecified</td>\n",
              "    </tr>\n",
              "    <tr>\n",
              "      <th>4</th>\n",
              "      <td>A01</td>\n",
              "      <td>Typhoid and paratyphoid fevers</td>\n",
              "    </tr>\n",
              "  </tbody>\n",
              "</table>\n",
              "</div>\n",
              "      <button class=\"colab-df-convert\" onclick=\"convertToInteractive('df-d7af8038-e22c-4520-8018-715e8f5baa80')\"\n",
              "              title=\"Convert this dataframe to an interactive table.\"\n",
              "              style=\"display:none;\">\n",
              "        \n",
              "  <svg xmlns=\"http://www.w3.org/2000/svg\" height=\"24px\"viewBox=\"0 0 24 24\"\n",
              "       width=\"24px\">\n",
              "    <path d=\"M0 0h24v24H0V0z\" fill=\"none\"/>\n",
              "    <path d=\"M18.56 5.44l.94 2.06.94-2.06 2.06-.94-2.06-.94-.94-2.06-.94 2.06-2.06.94zm-11 1L8.5 8.5l.94-2.06 2.06-.94-2.06-.94L8.5 2.5l-.94 2.06-2.06.94zm10 10l.94 2.06.94-2.06 2.06-.94-2.06-.94-.94-2.06-.94 2.06-2.06.94z\"/><path d=\"M17.41 7.96l-1.37-1.37c-.4-.4-.92-.59-1.43-.59-.52 0-1.04.2-1.43.59L10.3 9.45l-7.72 7.72c-.78.78-.78 2.05 0 2.83L4 21.41c.39.39.9.59 1.41.59.51 0 1.02-.2 1.41-.59l7.78-7.78 2.81-2.81c.8-.78.8-2.07 0-2.86zM5.41 20L4 18.59l7.72-7.72 1.47 1.35L5.41 20z\"/>\n",
              "  </svg>\n",
              "      </button>\n",
              "      \n",
              "  <style>\n",
              "    .colab-df-container {\n",
              "      display:flex;\n",
              "      flex-wrap:wrap;\n",
              "      gap: 12px;\n",
              "    }\n",
              "\n",
              "    .colab-df-convert {\n",
              "      background-color: #E8F0FE;\n",
              "      border: none;\n",
              "      border-radius: 50%;\n",
              "      cursor: pointer;\n",
              "      display: none;\n",
              "      fill: #1967D2;\n",
              "      height: 32px;\n",
              "      padding: 0 0 0 0;\n",
              "      width: 32px;\n",
              "    }\n",
              "\n",
              "    .colab-df-convert:hover {\n",
              "      background-color: #E2EBFA;\n",
              "      box-shadow: 0px 1px 2px rgba(60, 64, 67, 0.3), 0px 1px 3px 1px rgba(60, 64, 67, 0.15);\n",
              "      fill: #174EA6;\n",
              "    }\n",
              "\n",
              "    [theme=dark] .colab-df-convert {\n",
              "      background-color: #3B4455;\n",
              "      fill: #D2E3FC;\n",
              "    }\n",
              "\n",
              "    [theme=dark] .colab-df-convert:hover {\n",
              "      background-color: #434B5C;\n",
              "      box-shadow: 0px 1px 3px 1px rgba(0, 0, 0, 0.15);\n",
              "      filter: drop-shadow(0px 1px 2px rgba(0, 0, 0, 0.3));\n",
              "      fill: #FFFFFF;\n",
              "    }\n",
              "  </style>\n",
              "\n",
              "      <script>\n",
              "        const buttonEl =\n",
              "          document.querySelector('#df-d7af8038-e22c-4520-8018-715e8f5baa80 button.colab-df-convert');\n",
              "        buttonEl.style.display =\n",
              "          google.colab.kernel.accessAllowed ? 'block' : 'none';\n",
              "\n",
              "        async function convertToInteractive(key) {\n",
              "          const element = document.querySelector('#df-d7af8038-e22c-4520-8018-715e8f5baa80');\n",
              "          const dataTable =\n",
              "            await google.colab.kernel.invokeFunction('convertToInteractive',\n",
              "                                                     [key], {});\n",
              "          if (!dataTable) return;\n",
              "\n",
              "          const docLinkHtml = 'Like what you see? Visit the ' +\n",
              "            '<a target=\"_blank\" href=https://colab.research.google.com/notebooks/data_table.ipynb>data table notebook</a>'\n",
              "            + ' to learn more about interactive tables.';\n",
              "          element.innerHTML = '';\n",
              "          dataTable['output_type'] = 'display_data';\n",
              "          await google.colab.output.renderOutput(dataTable, element);\n",
              "          const docLink = document.createElement('div');\n",
              "          docLink.innerHTML = docLinkHtml;\n",
              "          element.appendChild(docLink);\n",
              "        }\n",
              "      </script>\n",
              "    </div>\n",
              "  </div>\n",
              "  "
            ]
          },
          "metadata": {},
          "execution_count": 3
        }
      ]
    },
    {
      "cell_type": "code",
      "source": [
        "sentences = data_df[\"Keyword\"]\n",
        "len(sentences)"
      ],
      "metadata": {
        "colab": {
          "base_uri": "https://localhost:8080/"
        },
        "id": "Ej9u5Plt_TmN",
        "outputId": "73e20afd-ab6c-4206-f8d7-d488d2a8c20a"
      },
      "execution_count": 5,
      "outputs": [
        {
          "output_type": "execute_result",
          "data": {
            "text/plain": [
              "96745"
            ]
          },
          "metadata": {},
          "execution_count": 5
        }
      ]
    },
    {
      "cell_type": "code",
      "source": [
        "sentences.head()"
      ],
      "metadata": {
        "colab": {
          "base_uri": "https://localhost:8080/"
        },
        "id": "gGUheeq9_dun",
        "outputId": "63df66d9-a9c3-4bce-e1c8-c364c682dadd"
      },
      "execution_count": null,
      "outputs": [
        {
          "output_type": "execute_result",
          "data": {
            "text/plain": [
              "0                                              Cholera\n",
              "1    Cholera due to Vibrio cholerae 01, biovar chol...\n",
              "2      Cholera due to Vibrio cholerae 01, biovar eltor\n",
              "3                                 Cholera, unspecified\n",
              "4                       Typhoid and paratyphoid fevers\n",
              "Name: Keyword, dtype: object"
            ]
          },
          "metadata": {},
          "execution_count": 5
        }
      ]
    },
    {
      "cell_type": "code",
      "source": [
        "# remove duplicates and NaN\n",
        "sentences = [word for word in list(set(sentences)) if type(word) is str]"
      ],
      "metadata": {
        "id": "fZQtnLnf_tKy"
      },
      "execution_count": 6,
      "outputs": []
    },
    {
      "cell_type": "code",
      "source": [
        "sentences[:5]"
      ],
      "metadata": {
        "colab": {
          "base_uri": "https://localhost:8080/"
        },
        "id": "M5PWDu4A_xWm",
        "outputId": "da4122ca-4297-4a7c-e4c6-5dcc20db6f3b"
      },
      "execution_count": 7,
      "outputs": [
        {
          "output_type": "execute_result",
          "data": {
            "text/plain": [
              "['Benign neoplasm of left breast',\n",
              " 'Corros unsp deg mult left fingers (nail), inc thumb, init',\n",
              " 'Spontaneous rupture of flexor tendons, unspecified shoulder',\n",
              " 'Erythema nodosum',\n",
              " 'Laceration without foreign body of left shoulder, sequela']"
            ]
          },
          "metadata": {},
          "execution_count": 7
        }
      ]
    },
    {
      "cell_type": "code",
      "source": [
        "len(sentences)"
      ],
      "metadata": {
        "colab": {
          "base_uri": "https://localhost:8080/"
        },
        "id": "Alt7aUXLAyAs",
        "outputId": "f83342d8-f2cf-402b-ee73-c04ff39d8df2"
      },
      "execution_count": 8,
      "outputs": [
        {
          "output_type": "execute_result",
          "data": {
            "text/plain": [
              "95970"
            ]
          },
          "metadata": {},
          "execution_count": 8
        }
      ]
    },
    {
      "cell_type": "markdown",
      "source": [
        "##Building Dense Vectors"
      ],
      "metadata": {
        "id": "kYO1X_RT5SnT"
      }
    },
    {
      "cell_type": "code",
      "source": [
        "# initialize sentence transformer model\n",
        "model = SentenceTransformer(\"bert-base-nli-mean-tokens\")"
      ],
      "metadata": {
        "id": "JK3XUEsC5jHW"
      },
      "execution_count": null,
      "outputs": []
    },
    {
      "cell_type": "code",
      "source": [
        "# create sentence embeddings\n",
        "sentence_embeddings = model.encode(sentences)\n",
        "sentence_embeddings.shape"
      ],
      "metadata": {
        "colab": {
          "base_uri": "https://localhost:8080/"
        },
        "id": "llbN9HL85sIk",
        "outputId": "f8f09705-699f-492d-a247-aa0b2fd543f8"
      },
      "execution_count": 20,
      "outputs": [
        {
          "output_type": "execute_result",
          "data": {
            "text/plain": [
              "(95970, 768)"
            ]
          },
          "metadata": {},
          "execution_count": 20
        }
      ]
    },
    {
      "cell_type": "code",
      "source": [
        "# save model\n",
        "model.save(\"icd_10_keyword_embeddings.h5\")"
      ],
      "metadata": {
        "id": "BVA8WHKrO_6O"
      },
      "execution_count": 21,
      "outputs": []
    },
    {
      "cell_type": "code",
      "source": [
        "model.load(\"icd_10_keyword_embeddings.h5\")"
      ],
      "metadata": {
        "colab": {
          "base_uri": "https://localhost:8080/"
        },
        "id": "y_yjbYEX_dT2",
        "outputId": "d05541b3-ff4a-45af-f4f6-0bc8a6e62203"
      },
      "execution_count": 30,
      "outputs": [
        {
          "output_type": "execute_result",
          "data": {
            "text/plain": [
              "SentenceTransformer(\n",
              "  (0): Transformer({'max_seq_length': 128, 'do_lower_case': False}) with Transformer model: BertModel \n",
              "  (1): Pooling({'word_embedding_dimension': 768, 'pooling_mode_cls_token': False, 'pooling_mode_mean_tokens': True, 'pooling_mode_max_tokens': False, 'pooling_mode_mean_sqrt_len_tokens': False})\n",
              ")"
            ]
          },
          "metadata": {},
          "execution_count": 30
        }
      ]
    },
    {
      "cell_type": "markdown",
      "source": [
        "##Loading embedding"
      ],
      "metadata": {
        "id": "fzxv4R6QEW0P"
      }
    },
    {
      "cell_type": "code",
      "source": [
        "with open('sentence_embeddings.pickle', 'rb') as pkl:\n",
        "  sentence_embeddings = pickle.load(pkl)"
      ],
      "metadata": {
        "id": "R2pgBE5QEZEN"
      },
      "execution_count": 38,
      "outputs": []
    },
    {
      "cell_type": "markdown",
      "source": [
        "##Euclidean(L2) distance "
      ],
      "metadata": {
        "id": "eg2N1oht6SEL"
      }
    },
    {
      "cell_type": "code",
      "source": [
        "# vector dimensionality\n",
        "d = sentence_embeddings.shape[1]\n",
        "d"
      ],
      "metadata": {
        "id": "vAchL50l6SqS",
        "colab": {
          "base_uri": "https://localhost:8080/"
        },
        "outputId": "7a9487e6-c794-45f9-db49-54ac7a65ea46"
      },
      "execution_count": 22,
      "outputs": [
        {
          "output_type": "execute_result",
          "data": {
            "text/plain": [
              "768"
            ]
          },
          "metadata": {},
          "execution_count": 22
        }
      ]
    },
    {
      "cell_type": "code",
      "source": [
        "# initialize IndexFlatL2 index\n",
        "index = faiss.IndexFlatL2(768)\n",
        "print(index.is_trained)"
      ],
      "metadata": {
        "id": "6HBEVNIR7eT2",
        "colab": {
          "base_uri": "https://localhost:8080/"
        },
        "outputId": "971620d6-c0a1-46b3-af47-ed4f192ca91e"
      },
      "execution_count": 39,
      "outputs": [
        {
          "output_type": "stream",
          "name": "stdout",
          "text": [
            "True\n"
          ]
        }
      ]
    },
    {
      "cell_type": "code",
      "source": [
        "# load our embeddings\n",
        "index.add(sentence_embeddings)\n",
        "index.ntotal"
      ],
      "metadata": {
        "id": "ZsbHLUiwEdcM",
        "colab": {
          "base_uri": "https://localhost:8080/"
        },
        "outputId": "6da698ef-f3d5-43c5-92f2-224c2347231b"
      },
      "execution_count": 40,
      "outputs": [
        {
          "output_type": "execute_result",
          "data": {
            "text/plain": [
              "95970"
            ]
          },
          "metadata": {},
          "execution_count": 40
        }
      ]
    },
    {
      "cell_type": "markdown",
      "source": [
        "##Query Sentence"
      ],
      "metadata": {
        "id": "HAiz1ezyGjOv"
      }
    },
    {
      "cell_type": "code",
      "source": [
        "# Then search given a query xq and number of nearest neigbors to return k\n",
        "k = 4\n",
        "xq = model.encode([\"Contact with and (suspected) exposure to COVID-19\"])"
      ],
      "metadata": {
        "id": "REp_cTJeG0dY"
      },
      "execution_count": 41,
      "outputs": []
    },
    {
      "cell_type": "code",
      "source": [
        "%%time\n",
        "\n",
        "# search\n",
        "D, I = index.search(xq, k)\n",
        "print(I)"
      ],
      "metadata": {
        "colab": {
          "base_uri": "https://localhost:8080/"
        },
        "id": "Gf6FqD9WG9AN",
        "outputId": "96a2cb06-51b9-448a-fb85-8ac566d7dd65"
      },
      "execution_count": 42,
      "outputs": [
        {
          "output_type": "stream",
          "name": "stdout",
          "text": [
            "[[69401 30684 30569 94300]]\n",
            "CPU times: user 51.5 ms, sys: 0 ns, total: 51.5 ms\n",
            "Wall time: 56.9 ms\n"
          ]
        }
      ]
    },
    {
      "cell_type": "code",
      "source": [
        "[f'{i}: {sentences[i]}' for i in I[0]]"
      ],
      "metadata": {
        "colab": {
          "base_uri": "https://localhost:8080/"
        },
        "id": "ZNqTcmj-WMdD",
        "outputId": "d68941fb-5dd4-4535-88c7-39d43f58e089"
      },
      "execution_count": 43,
      "outputs": [
        {
          "output_type": "execute_result",
          "data": {
            "text/plain": [
              "['69401: Poikiloderma vasculare atrophicans',\n",
              " '30684: Laceration w/o foreign body of r rng fngr w damage to nail',\n",
              " '30569: Hydroxyapatite deposition disease, unspecified elbow',\n",
              " '94300: Infct of amniotic sac and membrns, unsp, second tri, oth']"
            ]
          },
          "metadata": {},
          "execution_count": 43
        }
      ]
    },
    {
      "cell_type": "markdown",
      "source": [
        "```log\n",
        "['69401: Contact with and (suspected) exposure to COVID-19',\n",
        " '30684: Encounter for screening for COVID-19',\n",
        " '30569: Unvaccinated for COVID-19',\n",
        " '94300: Post COVID-19 condition']\n",
        "```"
      ],
      "metadata": {
        "id": "04lDTqtYLQ2q"
      }
    },
    {
      "cell_type": "code",
      "source": [
        "%%time\n",
        "\n",
        "xq = model.encode([\"Hypertriglyceridemia, sporadic\"])\n",
        "\n",
        "# search\n",
        "D, I = index.search(xq, k)\n",
        "print(I)"
      ],
      "metadata": {
        "id": "DZNlU8ZMHl-9",
        "colab": {
          "base_uri": "https://localhost:8080/"
        },
        "outputId": "df15740d-f305-4f1f-bc35-b97bb1be367f"
      },
      "execution_count": 44,
      "outputs": [
        {
          "output_type": "stream",
          "name": "stdout",
          "text": [
            "[[85952   467  1869 16091]]\n",
            "CPU times: user 208 ms, sys: 988 µs, total: 209 ms\n",
            "Wall time: 215 ms\n"
          ]
        }
      ]
    },
    {
      "cell_type": "code",
      "source": [
        "[f'{i}: {sentences[i]}' for i in I[0]]"
      ],
      "metadata": {
        "id": "x5VYDE1cJ0rZ",
        "colab": {
          "base_uri": "https://localhost:8080/"
        },
        "outputId": "f455d6a7-0506-4f27-d1e4-473187e9b40a"
      },
      "execution_count": 45,
      "outputs": [
        {
          "output_type": "execute_result",
          "data": {
            "text/plain": [
              "['85952: Aneurysmal bone cyst, unspecified shoulder',\n",
              " '467: Corros 20-29% of body surface w 20-29% third degree corros',\n",
              " '1869: Degenerative myopia, left eye',\n",
              " '16091: Traumatic amputation of nose']"
            ]
          },
          "metadata": {},
          "execution_count": 45
        }
      ]
    },
    {
      "cell_type": "markdown",
      "source": [
        "```log\n",
        "['85952: Hyperglycemia, unspecified',\n",
        " '467: Hyperlipidemia, unspecified',\n",
        " '1869: Generalized hyperhidrosis',\n",
        " '16091: Hypercalcemia']\n",
        " ```"
      ],
      "metadata": {
        "id": "Hi-gOMdfLkIB"
      }
    },
    {
      "cell_type": "code",
      "source": [
        "%%time\n",
        "\n",
        "xq = model.encode([\"Diagnosis Cough\"])\n",
        "\n",
        "# search\n",
        "D, I = index.search(xq, k)\n",
        "print(I)"
      ],
      "metadata": {
        "colab": {
          "base_uri": "https://localhost:8080/"
        },
        "id": "lFhHGuHzkdhg",
        "outputId": "cde82507-483c-4af9-8a69-b723cdb5b7d2"
      },
      "execution_count": null,
      "outputs": [
        {
          "output_type": "stream",
          "name": "stdout",
          "text": [
            "[[52012 50084 38774 56988]]\n",
            "CPU times: user 112 ms, sys: 0 ns, total: 112 ms\n",
            "Wall time: 117 ms\n"
          ]
        }
      ]
    },
    {
      "cell_type": "code",
      "source": [
        "[f'{i}: {sentences[i]}' for i in I[0]]"
      ],
      "metadata": {
        "colab": {
          "base_uri": "https://localhost:8080/"
        },
        "id": "PlBgRG4Nki8I",
        "outputId": "4faaa398-068e-4886-df57-ff1ba5cea2ae"
      },
      "execution_count": null,
      "outputs": [
        {
          "output_type": "execute_result",
          "data": {
            "text/plain": [
              "['52012: Cough',\n",
              " '50084: Cough syncope',\n",
              " '38774: Subacute cough',\n",
              " '56988: Chronic cough']"
            ]
          },
          "metadata": {},
          "execution_count": 27
        }
      ]
    },
    {
      "cell_type": "code",
      "source": [
        "%%time\n",
        "\n",
        "xq = model.encode([\"Testing done at Silver Pine Medical Group unless otherwise specified.\"])\n",
        "\n",
        "# search\n",
        "D, I = index.search(xq, k)\n",
        "print(I)"
      ],
      "metadata": {
        "colab": {
          "base_uri": "https://localhost:8080/"
        },
        "id": "y4r8GReQk99g",
        "outputId": "a195edbd-2393-40ff-8cd4-8d94301c0408"
      },
      "execution_count": null,
      "outputs": [
        {
          "output_type": "stream",
          "name": "stdout",
          "text": [
            "[[61295 13794 69141  8205]]\n",
            "CPU times: user 160 ms, sys: 999 µs, total: 161 ms\n",
            "Wall time: 162 ms\n"
          ]
        }
      ]
    },
    {
      "cell_type": "code",
      "source": [
        "[f'{i}: {sentences[i]}' for i in I[0]]"
      ],
      "metadata": {
        "colab": {
          "base_uri": "https://localhost:8080/"
        },
        "id": "CoNl5RWzlDJp",
        "outputId": "108c434f-43db-4217-a23e-df5f9a6bd319"
      },
      "execution_count": null,
      "outputs": [
        {
          "output_type": "execute_result",
          "data": {
            "text/plain": [
              "['61295: Encounter for screening for infec/parastc diseases, unsp',\n",
              " '13794: Obs & eval of NB for suspected genetic condition ruled out',\n",
              " '69141: Abn lev drug/meds/biol subst in specimens from oth org/tiss',\n",
              " '8205: Encntr for medical obs for susp diseases and cond ruled out']"
            ]
          },
          "metadata": {},
          "execution_count": 29
        }
      ]
    },
    {
      "cell_type": "markdown",
      "source": [
        "##Saving and loading `sentence_embeddings`"
      ],
      "metadata": {
        "id": "HxuZFyY_pPXn"
      }
    },
    {
      "cell_type": "code",
      "source": [
        "import pickle\n",
        "\n",
        "with open('sentence_embeddings.pickle', 'wb') as pkl:\n",
        "  pickle.dump(sentence_embeddings, pkl)"
      ],
      "metadata": {
        "id": "oN8WGvUOnkp5"
      },
      "execution_count": null,
      "outputs": []
    },
    {
      "cell_type": "code",
      "source": [
        "with open('sentence_embeddings.pickle', 'rb') as pkl:\n",
        "  sentence_embeddings2 = pickle.load(pkl)\n",
        "\n",
        "# load our embeddings\n",
        "index.add(sentence_embeddings2)\n",
        "index.ntotal"
      ],
      "metadata": {
        "colab": {
          "base_uri": "https://localhost:8080/"
        },
        "id": "JritJqqNnvVv",
        "outputId": "fb84a583-8c06-495c-e5d6-2b0684854c1d"
      },
      "execution_count": null,
      "outputs": [
        {
          "output_type": "execute_result",
          "data": {
            "text/plain": [
              "191940"
            ]
          },
          "metadata": {},
          "execution_count": 32
        }
      ]
    },
    {
      "cell_type": "code",
      "source": [
        "xq = model.encode([\"Contact with and (suspected) exposure to COVID-19\"])\n",
        "# search\n",
        "D, I = index.search(xq, k)\n",
        "print(I)"
      ],
      "metadata": {
        "colab": {
          "base_uri": "https://localhost:8080/"
        },
        "id": "HqNPIfyln4m5",
        "outputId": "fc964b9e-5a41-4caa-e150-1ee8a0029e23"
      },
      "execution_count": null,
      "outputs": [
        {
          "output_type": "stream",
          "name": "stdout",
          "text": [
            "[[ 69401 165371  30684 126654]]\n"
          ]
        }
      ]
    },
    {
      "cell_type": "code",
      "source": [
        "sentences[69401]"
      ],
      "metadata": {
        "colab": {
          "base_uri": "https://localhost:8080/",
          "height": 35
        },
        "id": "FcPJ8XrRouws",
        "outputId": "61196e75-fee7-465d-c96c-b5d7b796bb95"
      },
      "execution_count": null,
      "outputs": [
        {
          "output_type": "execute_result",
          "data": {
            "text/plain": [
              "'Contact with and (suspected) exposure to COVID-19'"
            ],
            "application/vnd.google.colaboratory.intrinsic+json": {
              "type": "string"
            }
          },
          "metadata": {},
          "execution_count": 35
        }
      ]
    },
    {
      "cell_type": "code",
      "source": [
        "sentences[30684]"
      ],
      "metadata": {
        "colab": {
          "base_uri": "https://localhost:8080/",
          "height": 35
        },
        "id": "iSUwKx2Uo8X4",
        "outputId": "4eedbd84-ce07-4473-8a43-7d67df308203"
      },
      "execution_count": null,
      "outputs": [
        {
          "output_type": "execute_result",
          "data": {
            "text/plain": [
              "'Encounter for screening for COVID-19'"
            ],
            "application/vnd.google.colaboratory.intrinsic+json": {
              "type": "string"
            }
          },
          "metadata": {},
          "execution_count": 37
        }
      ]
    },
    {
      "cell_type": "code",
      "source": [
        "[f'{i}: {sentences[i]}' for i in I[0]]"
      ],
      "metadata": {
        "colab": {
          "base_uri": "https://localhost:8080/",
          "height": 218
        },
        "id": "paVM7jFmoAU6",
        "outputId": "d7eaf226-2035-42b4-dec9-f33b19a0f1a0"
      },
      "execution_count": null,
      "outputs": [
        {
          "output_type": "error",
          "ename": "IndexError",
          "evalue": "ignored",
          "traceback": [
            "\u001b[0;31m---------------------------------------------------------------------------\u001b[0m",
            "\u001b[0;31mIndexError\u001b[0m                                Traceback (most recent call last)",
            "\u001b[0;32m<ipython-input-34-29656bc3d988>\u001b[0m in \u001b[0;36m<cell line: 1>\u001b[0;34m()\u001b[0m\n\u001b[0;32m----> 1\u001b[0;31m \u001b[0;34m[\u001b[0m\u001b[0;34mf'{i}: {sentences[i]}'\u001b[0m \u001b[0;32mfor\u001b[0m \u001b[0mi\u001b[0m \u001b[0;32min\u001b[0m \u001b[0mI\u001b[0m\u001b[0;34m[\u001b[0m\u001b[0;36m0\u001b[0m\u001b[0;34m]\u001b[0m\u001b[0;34m]\u001b[0m\u001b[0;34m\u001b[0m\u001b[0;34m\u001b[0m\u001b[0m\n\u001b[0m",
            "\u001b[0;32m<ipython-input-34-29656bc3d988>\u001b[0m in \u001b[0;36m<listcomp>\u001b[0;34m(.0)\u001b[0m\n\u001b[0;32m----> 1\u001b[0;31m \u001b[0;34m[\u001b[0m\u001b[0;34mf'{i}: {sentences[i]}'\u001b[0m \u001b[0;32mfor\u001b[0m \u001b[0mi\u001b[0m \u001b[0;32min\u001b[0m \u001b[0mI\u001b[0m\u001b[0;34m[\u001b[0m\u001b[0;36m0\u001b[0m\u001b[0;34m]\u001b[0m\u001b[0;34m]\u001b[0m\u001b[0;34m\u001b[0m\u001b[0;34m\u001b[0m\u001b[0m\n\u001b[0m",
            "\u001b[0;31mIndexError\u001b[0m: list index out of range"
          ]
        }
      ]
    },
    {
      "cell_type": "markdown",
      "source": [
        "##Partitioning The Index"
      ],
      "metadata": {
        "id": "RZFfNDYiJs0C"
      }
    },
    {
      "cell_type": "code",
      "source": [
        "# how many cells\n",
        "n_list = 50\n",
        "quantizer = faiss.IndexFlatL2(d)\n",
        "index = faiss.IndexIVFFlat(quantizer, d, n_list)"
      ],
      "metadata": {
        "id": "mdXMe--TJtf6"
      },
      "execution_count": null,
      "outputs": []
    },
    {
      "cell_type": "code",
      "source": [
        "# train index on data before adding any data to the index\n",
        "index.is_trained"
      ],
      "metadata": {
        "colab": {
          "base_uri": "https://localhost:8080/"
        },
        "id": "Ql7moEgBKYVv",
        "outputId": "8ab26dce-acff-4797-d5c5-3d08fba1e4c5"
      },
      "execution_count": null,
      "outputs": [
        {
          "output_type": "execute_result",
          "data": {
            "text/plain": [
              "False"
            ]
          },
          "metadata": {},
          "execution_count": 21
        }
      ]
    },
    {
      "cell_type": "code",
      "source": [
        "index.train(sentence_embeddings)\n",
        "# check if index is now trained\n",
        "index.is_trained"
      ],
      "metadata": {
        "colab": {
          "base_uri": "https://localhost:8080/"
        },
        "id": "oWOkLqArKhB7",
        "outputId": "12356a64-62aa-4682-c25e-3c17b8219b30"
      },
      "execution_count": null,
      "outputs": [
        {
          "output_type": "execute_result",
          "data": {
            "text/plain": [
              "True"
            ]
          },
          "metadata": {},
          "execution_count": 22
        }
      ]
    },
    {
      "cell_type": "code",
      "source": [
        "index.add(sentence_embeddings)\n",
        "# number of embeddings indexed\n",
        "index.ntotal"
      ],
      "metadata": {
        "colab": {
          "base_uri": "https://localhost:8080/"
        },
        "id": "YYhqyYRBKpBT",
        "outputId": "60856bce-0c04-4779-a9ad-0299358f3996"
      },
      "execution_count": null,
      "outputs": [
        {
          "output_type": "execute_result",
          "data": {
            "text/plain": [
              "14504"
            ]
          },
          "metadata": {},
          "execution_count": 23
        }
      ]
    },
    {
      "cell_type": "code",
      "source": [
        "# Let’s search again using the same indexed sentence embeddings and the same query vector\n",
        "%%time\n",
        "\n",
        "# search\n",
        "D, I = index.search(xq, k)\n",
        "print(I)"
      ],
      "metadata": {
        "colab": {
          "base_uri": "https://localhost:8080/"
        },
        "id": "9x3NGNyjWuLJ",
        "outputId": "04a67d4c-2647-492a-bd52-d4246078ecd2"
      },
      "execution_count": null,
      "outputs": [
        {
          "output_type": "stream",
          "name": "stdout",
          "text": [
            "[[ 3853  3412 10113  4266]]\n",
            "CPU times: user 589 µs, sys: 16 µs, total: 605 µs\n",
            "Wall time: 833 µs\n"
          ]
        }
      ]
    },
    {
      "cell_type": "code",
      "source": [
        "[f'{i}: {sentences[i]}' for i in I[0]]"
      ],
      "metadata": {
        "colab": {
          "base_uri": "https://localhost:8080/"
        },
        "id": "XMS9Z7aoW2Lp",
        "outputId": "4e151a9e-20d3-4318-b7bb-57e8bf09393b"
      },
      "execution_count": null,
      "outputs": [
        {
          "output_type": "execute_result",
          "data": {
            "text/plain": [
              "['3853: A group of football players is running in the field',\n",
              " '3412: A group of people playing football is running in the field',\n",
              " '10113: Two groups of people are playing football',\n",
              " '4266: A person playing football is running past an official carrying a football']"
            ]
          },
          "metadata": {},
          "execution_count": 25
        }
      ]
    },
    {
      "cell_type": "code",
      "source": [
        "# We can increase the number of nearby cells to search too with nprobe.\n",
        "index.nprobe = 10"
      ],
      "metadata": {
        "id": "azQkY4pmXV5I"
      },
      "execution_count": null,
      "outputs": []
    },
    {
      "cell_type": "code",
      "source": [
        "%%time\n",
        "\n",
        "# search\n",
        "D, I = index.search(xq, k)\n",
        "print(I)"
      ],
      "metadata": {
        "colab": {
          "base_uri": "https://localhost:8080/"
        },
        "id": "I229sQQ_XbAp",
        "outputId": "bf9f7b8e-9452-483a-efcc-57a81f0a1e6c"
      },
      "execution_count": null,
      "outputs": [
        {
          "output_type": "stream",
          "name": "stdout",
          "text": [
            "[[ 3853  3412 10113  4266]]\n",
            "CPU times: user 1.08 ms, sys: 3 µs, total: 1.08 ms\n",
            "Wall time: 1.09 ms\n"
          ]
        }
      ]
    },
    {
      "cell_type": "code",
      "source": [
        "[f'{i}: {sentences[i]}' for i in I[0]]"
      ],
      "metadata": {
        "colab": {
          "base_uri": "https://localhost:8080/"
        },
        "id": "635Dg0KbXfbE",
        "outputId": "72e6a4f4-9d85-47d9-9731-b8d5f3a48d79"
      },
      "execution_count": null,
      "outputs": [
        {
          "output_type": "execute_result",
          "data": {
            "text/plain": [
              "['3853: A group of football players is running in the field',\n",
              " '3412: A group of people playing football is running in the field',\n",
              " '10113: Two groups of people are playing football',\n",
              " '4266: A person playing football is running past an official carrying a football']"
            ]
          },
          "metadata": {},
          "execution_count": 28
        }
      ]
    },
    {
      "cell_type": "markdown",
      "source": [
        "##Vector Reconstruction"
      ],
      "metadata": {
        "id": "DuxLDIyZXvVP"
      }
    },
    {
      "cell_type": "code",
      "source": [
        "# now, to reconstruct the vectors, we must first create these direct mappings\n",
        "index.make_direct_map()"
      ],
      "metadata": {
        "id": "jslawXypXv-F"
      },
      "execution_count": null,
      "outputs": []
    },
    {
      "cell_type": "code",
      "source": [
        "index.reconstruct(11122)[:100]"
      ],
      "metadata": {
        "colab": {
          "base_uri": "https://localhost:8080/"
        },
        "id": "22Xh0hZ1X-mH",
        "outputId": "5559ebb2-0a24-47b9-9fb1-1dd104c175b9"
      },
      "execution_count": null,
      "outputs": [
        {
          "output_type": "execute_result",
          "data": {
            "text/plain": [
              "array([ 1.2838421 ,  0.21651636,  0.9712451 ,  0.31156752,  0.28217337,\n",
              "        0.91760635,  1.5379874 ,  0.18022525, -0.87787133, -0.02692633,\n",
              "       -1.3939755 , -0.02931822, -0.0910926 ,  0.8252405 ,  1.1967825 ,\n",
              "        0.46976212, -0.4116232 , -0.44104576,  0.00642029,  0.14851105,\n",
              "       -0.43181732,  0.53935724,  0.6806572 , -1.2024508 , -0.5175477 ,\n",
              "       -0.87696105, -0.14817108, -0.24578056, -1.1521579 ,  0.2925653 ,\n",
              "        0.1566306 ,  0.9666366 ,  0.48437908, -0.14077239,  0.6266316 ,\n",
              "       -0.28244448, -0.12196147, -1.0980004 ,  0.39501837, -0.4538445 ,\n",
              "        0.03117619,  0.350108  ,  0.088641  , -0.04181439,  0.49622074,\n",
              "       -0.02361662,  2.3334348 , -0.49966168, -0.1949345 , -0.37520537,\n",
              "        0.02379034, -0.2796866 ,  1.5051224 ,  0.75192493, -0.23107927,\n",
              "       -0.4343509 ,  0.41142032, -0.58381236,  0.6106839 ,  0.5567988 ,\n",
              "        0.39692488, -0.09096396,  0.01875396,  0.06579515, -0.54263747,\n",
              "       -0.29689386, -0.2615427 , -0.36894163,  0.02824443, -0.3786847 ,\n",
              "        0.845188  ,  0.81905144, -0.1144926 ,  0.21777844, -0.22829011,\n",
              "        0.28029504,  0.6587723 ,  0.61966693, -0.5828584 ,  0.35737595,\n",
              "       -0.05345004,  0.6795896 ,  0.4262927 ,  0.04680291, -0.96333283,\n",
              "       -0.03309266, -0.09275591,  0.3464413 , -0.548697  , -0.81553394,\n",
              "       -0.11909889,  0.92148066,  0.11334767, -0.47722873, -0.7277746 ,\n",
              "        0.8113466 , -0.44370335,  0.5163044 ,  0.29103372, -0.1763564 ],\n",
              "      dtype=float32)"
            ]
          },
          "metadata": {},
          "execution_count": 30
        }
      ]
    },
    {
      "cell_type": "markdown",
      "source": [
        "##Quantization"
      ],
      "metadata": {
        "id": "uH8_WWPvYKY1"
      }
    },
    {
      "cell_type": "code",
      "source": [
        "# number of centroid IDs in final compressed vectors\n",
        "m = 8\n",
        "\n",
        "# number of bits in each centroid\n",
        "bits = 8\n",
        "\n",
        "# we keep the same L2 distance flat index\n",
        "quantizer = faiss.IndexFlatL2(d)\n",
        "index = faiss.IndexIVFPQ(quantizer, d, n_list, m, bits)"
      ],
      "metadata": {
        "id": "ycCaz8f7YLAh"
      },
      "execution_count": null,
      "outputs": []
    },
    {
      "cell_type": "code",
      "source": [
        "index.is_trained"
      ],
      "metadata": {
        "colab": {
          "base_uri": "https://localhost:8080/"
        },
        "id": "7j3rILi8UrNo",
        "outputId": "c4678ecc-f749-45e2-9042-18d5a4d7a4e6"
      },
      "execution_count": null,
      "outputs": [
        {
          "output_type": "execute_result",
          "data": {
            "text/plain": [
              "True"
            ]
          },
          "metadata": {},
          "execution_count": 31
        }
      ]
    },
    {
      "cell_type": "code",
      "source": [
        "index.train(sentence_embeddings)"
      ],
      "metadata": {
        "id": "YwQe1o6OUsXn"
      },
      "execution_count": null,
      "outputs": []
    },
    {
      "cell_type": "code",
      "source": [
        "index.add(sentence_embeddings)"
      ],
      "metadata": {
        "id": "epoclDwjUx3J"
      },
      "execution_count": null,
      "outputs": []
    },
    {
      "cell_type": "code",
      "source": [
        "# now we’re ready to begin searching using our new index\n",
        "index.nprobe = 10"
      ],
      "metadata": {
        "id": "CAl-0D9jUzqL"
      },
      "execution_count": null,
      "outputs": []
    },
    {
      "cell_type": "code",
      "source": [
        "%%time\n",
        "\n",
        "D, I = index.search(xq, k)\n",
        "print(I)"
      ],
      "metadata": {
        "colab": {
          "base_uri": "https://localhost:8080/"
        },
        "id": "rIaKzZkbVEf1",
        "outputId": "6a235965-6ec8-4750-a7b0-363ee4f7fdb5"
      },
      "execution_count": null,
      "outputs": [
        {
          "output_type": "stream",
          "name": "stdout",
          "text": [
            "[[ 3853 18357  3412 17916]]\n",
            "CPU times: user 3.63 ms, sys: 46 µs, total: 3.68 ms\n",
            "Wall time: 2.66 ms\n"
          ]
        }
      ]
    },
    {
      "cell_type": "code",
      "source": [
        "[f'{i}: {sentences[i]}' for i in [3853, 3412]]"
      ],
      "metadata": {
        "colab": {
          "base_uri": "https://localhost:8080/"
        },
        "id": "wjouK3zeVMOd",
        "outputId": "a2ad827b-566f-44e0-dd3a-c514a6d64061"
      },
      "execution_count": null,
      "outputs": [
        {
          "output_type": "execute_result",
          "data": {
            "text/plain": [
              "['3853: A group of football players is running in the field',\n",
              " '3412: A group of people playing football is running in the field']"
            ]
          },
          "metadata": {},
          "execution_count": 41
        }
      ]
    }
  ]
}